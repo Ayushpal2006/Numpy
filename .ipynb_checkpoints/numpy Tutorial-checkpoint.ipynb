{
 "cells": [
  {
   "cell_type": "markdown",
   "id": "a4f628ab-b3d5-4afa-94ab-08a2ed8a2c0f",
   "metadata": {},
   "source": [
    "# Intro to Numpy"
   ]
  },
  {
   "cell_type": "code",
   "execution_count": 1,
   "id": "54ab658a-236d-410c-8188-92f1e096d695",
   "metadata": {},
   "outputs": [],
   "source": [
    "import numpy as np\n"
   ]
  },
  {
   "cell_type": "code",
   "execution_count": 2,
   "id": "6ae7ad06-306f-402c-9831-0c108b00018e",
   "metadata": {},
   "outputs": [],
   "source": [
    "myarr = np.array([[1,2,3,888]])"
   ]
  },
  {
   "cell_type": "code",
   "execution_count": 3,
   "id": "789354e0-6236-4dfe-87d3-0fcee79d2ac0",
   "metadata": {},
   "outputs": [
    {
     "data": {
      "text/plain": [
       "(1, 4)"
      ]
     },
     "execution_count": 3,
     "metadata": {},
     "output_type": "execute_result"
    }
   ],
   "source": [
    "myarr.shape"
   ]
  },
  {
   "cell_type": "markdown",
   "id": "0c6ba5ce-2187-45f2-8ab0-ae789ea6f5b1",
   "metadata": {},
   "source": [
    "# Array creation method \n",
    "**Creates an array from a list or tuple.**"
   ]
  },
  {
   "cell_type": "code",
   "execution_count": 4,
   "id": "bd1e6bbd-7a5f-4944-b890-b3346e44dd1b",
   "metadata": {},
   "outputs": [],
   "source": [
    "listarr = np.array([[1,2,3],[4,5,6],[7,8,9]])"
   ]
  },
  {
   "cell_type": "code",
   "execution_count": 5,
   "id": "ac4fd386-c561-4a45-8637-5f6fef014624",
   "metadata": {},
   "outputs": [
    {
     "data": {
      "text/plain": [
       "array([[1, 2, 3],\n",
       "       [4, 5, 6],\n",
       "       [7, 8, 9]])"
      ]
     },
     "execution_count": 5,
     "metadata": {},
     "output_type": "execute_result"
    }
   ],
   "source": [
    "listarr"
   ]
  },
  {
   "cell_type": "code",
   "execution_count": 6,
   "id": "79811862-74d2-4ced-bdbd-c8956ad5aeb0",
   "metadata": {},
   "outputs": [
    {
     "data": {
      "text/plain": [
       "(3, 3)"
      ]
     },
     "execution_count": 6,
     "metadata": {},
     "output_type": "execute_result"
    }
   ],
   "source": [
    "listarr.shape"
   ]
  },
  {
   "cell_type": "code",
   "execution_count": 7,
   "id": "23250f85-0444-4ffa-a137-27b64c2e6dc2",
   "metadata": {},
   "outputs": [
    {
     "data": {
      "text/plain": [
       "dtype('int64')"
      ]
     },
     "execution_count": 7,
     "metadata": {},
     "output_type": "execute_result"
    }
   ],
   "source": [
    "listarr.dtype"
   ]
  },
  {
   "cell_type": "code",
   "execution_count": 8,
   "id": "cd08e5c2-2c12-4fbf-bc30-cf1139ad7882",
   "metadata": {},
   "outputs": [
    {
     "data": {
      "text/plain": [
       "9"
      ]
     },
     "execution_count": 8,
     "metadata": {},
     "output_type": "execute_result"
    }
   ],
   "source": [
    "listarr.size"
   ]
  },
  {
   "cell_type": "code",
   "execution_count": 9,
   "id": "b54b8b0b-0218-453c-88df-14b7562e5653",
   "metadata": {},
   "outputs": [],
   "source": [
    "tupplearr = np.array((4, 5, 6))"
   ]
  },
  {
   "cell_type": "code",
   "execution_count": 10,
   "id": "88d67d84-8e21-49ca-8760-6e3807efdc05",
   "metadata": {},
   "outputs": [
    {
     "data": {
      "text/plain": [
       "array([4, 5, 6])"
      ]
     },
     "execution_count": 10,
     "metadata": {},
     "output_type": "execute_result"
    }
   ],
   "source": [
    "tupplearr"
   ]
  },
  {
   "cell_type": "markdown",
   "id": "637bf543-3127-4ac7-8217-414c13a6e95c",
   "metadata": {},
   "source": [
    "#### **intrinsic numpy array creation object**"
   ]
  },
  {
   "cell_type": "code",
   "execution_count": 11,
   "id": "dd61d12f-2dfd-4405-b6de-4ebf75bb7658",
   "metadata": {},
   "outputs": [],
   "source": [
    "zero = np.zeros((2,5))"
   ]
  },
  {
   "cell_type": "code",
   "execution_count": 12,
   "id": "715a4e9b-9d02-4788-9834-18503c4aa12b",
   "metadata": {},
   "outputs": [],
   "source": [
    "rng = np.arange(10)"
   ]
  },
  {
   "cell_type": "code",
   "execution_count": 13,
   "id": "ac967025-1880-47ae-99e6-2cd018b401dc",
   "metadata": {},
   "outputs": [],
   "source": [
    "lspace = np.linspace(1,10,5)"
   ]
  },
  {
   "cell_type": "code",
   "execution_count": 14,
   "id": "f66741ec-30ce-42a9-a41e-69d9afd594da",
   "metadata": {},
   "outputs": [
    {
     "data": {
      "text/plain": [
       "array([ 1.  ,  3.25,  5.5 ,  7.75, 10.  ])"
      ]
     },
     "execution_count": 14,
     "metadata": {},
     "output_type": "execute_result"
    }
   ],
   "source": [
    "lspace"
   ]
  },
  {
   "cell_type": "code",
   "execution_count": 15,
   "id": "f4a15a95-28cd-460b-9683-58eeb2a66516",
   "metadata": {},
   "outputs": [],
   "source": [
    "emp = np.empty((3,3))"
   ]
  },
  {
   "cell_type": "code",
   "execution_count": 16,
   "id": "084e36a0-cdd9-46d9-92a0-582fc64e5abe",
   "metadata": {},
   "outputs": [
    {
     "data": {
      "text/plain": [
       "array([[1.36313606e-316, 0.00000000e+000, 0.00000000e+000],\n",
       "       [0.00000000e+000, 0.00000000e+000, 0.00000000e+000],\n",
       "       [0.00000000e+000, 0.00000000e+000, 0.00000000e+000]])"
      ]
     },
     "execution_count": 16,
     "metadata": {},
     "output_type": "execute_result"
    }
   ],
   "source": [
    "emp"
   ]
  },
  {
   "cell_type": "code",
   "execution_count": 17,
   "id": "134b2904-bc43-4073-bb4a-d4232a5761b2",
   "metadata": {},
   "outputs": [],
   "source": [
    "emp_like = np.empty_like(lspace)"
   ]
  },
  {
   "cell_type": "code",
   "execution_count": 18,
   "id": "769a11ec-af8f-45b7-ae9d-b3c920b837c6",
   "metadata": {},
   "outputs": [
    {
     "data": {
      "text/plain": [
       "array([ 1.  ,  3.25,  5.5 ,  7.75, 10.  ])"
      ]
     },
     "execution_count": 18,
     "metadata": {},
     "output_type": "execute_result"
    }
   ],
   "source": [
    "emp_like"
   ]
  },
  {
   "cell_type": "code",
   "execution_count": 19,
   "id": "c49e5256-91fd-4d85-891e-107c275d868c",
   "metadata": {},
   "outputs": [],
   "source": [
    "idn = np.identity(3)"
   ]
  },
  {
   "cell_type": "code",
   "execution_count": 20,
   "id": "121937f9-6fc5-40f8-af4c-c54f1a191f4b",
   "metadata": {},
   "outputs": [
    {
     "data": {
      "text/plain": [
       "array([[1., 0., 0.],\n",
       "       [0., 1., 0.],\n",
       "       [0., 0., 1.]])"
      ]
     },
     "execution_count": 20,
     "metadata": {},
     "output_type": "execute_result"
    }
   ],
   "source": [
    "idn"
   ]
  },
  {
   "cell_type": "markdown",
   "id": "a4ce804f-0cab-4032-98d9-6d2a85c719d5",
   "metadata": {},
   "source": [
    "#### Two impt function ***reshape & ravel***"
   ]
  },
  {
   "cell_type": "code",
   "execution_count": 21,
   "id": "3cbf9867-428d-4a19-b5a4-787bda8e5c37",
   "metadata": {},
   "outputs": [],
   "source": [
    "arr = np.arange(10)"
   ]
  },
  {
   "cell_type": "code",
   "execution_count": 22,
   "id": "02e2fb4c-896f-4e40-a7ad-00d4074b4b59",
   "metadata": {},
   "outputs": [
    {
     "data": {
      "text/plain": [
       "array([[0, 1, 2, 3, 4],\n",
       "       [5, 6, 7, 8, 9]])"
      ]
     },
     "execution_count": 22,
     "metadata": {},
     "output_type": "execute_result"
    }
   ],
   "source": [
    "arr.reshape(2,5)"
   ]
  },
  {
   "cell_type": "code",
   "execution_count": 23,
   "id": "2b8d24ee-db76-43b2-9d70-c4079d2a6939",
   "metadata": {},
   "outputs": [
    {
     "data": {
      "text/plain": [
       "array([0, 1, 2, 3, 4, 5, 6, 7, 8, 9])"
      ]
     },
     "execution_count": 23,
     "metadata": {},
     "output_type": "execute_result"
    }
   ],
   "source": [
    "arr.ravel()"
   ]
  },
  {
   "cell_type": "code",
   "execution_count": null,
   "id": "fbbdf816-29e8-41b2-9613-1be2498ba914",
   "metadata": {},
   "outputs": [],
   "source": []
  },
  {
   "cell_type": "code",
   "execution_count": null,
   "id": "462e8433-5a5f-4957-835d-774173f1397f",
   "metadata": {},
   "outputs": [],
   "source": []
  }
 ],
 "metadata": {
  "kernelspec": {
   "display_name": "Python 3 (ipykernel)",
   "language": "python",
   "name": "python3"
  },
  "language_info": {
   "codemirror_mode": {
    "name": "ipython",
    "version": 3
   },
   "file_extension": ".py",
   "mimetype": "text/x-python",
   "name": "python",
   "nbconvert_exporter": "python",
   "pygments_lexer": "ipython3",
   "version": "3.12.4"
  }
 },
 "nbformat": 4,
 "nbformat_minor": 5
}
