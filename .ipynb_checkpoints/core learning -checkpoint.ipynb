{
 "cells": [
  {
   "cell_type": "markdown",
   "id": "3c01b846-3d68-4b99-b047-edbf18e4114b",
   "metadata": {},
   "source": [
    "# 1. Arrays and Array Creation"
   ]
  },
  {
   "cell_type": "code",
   "execution_count": 1,
   "id": "f2134fbe-c14f-4463-8e67-3f5883f71b1b",
   "metadata": {},
   "outputs": [
    {
     "name": "stdout",
     "output_type": "stream",
     "text": [
      "1D Array: [1 2 3 4]\n",
      "2D Array:\n",
      " [[1 2]\n",
      " [3 4]]\n",
      "Zeros Array:\n",
      " [[0. 0. 0.]\n",
      " [0. 0. 0.]\n",
      " [0. 0. 0.]]\n",
      "Ones Array:\n",
      " [[1. 1.]\n",
      " [1. 1.]]\n",
      "Range Array: [0 2 4 6 8]\n",
      "Linspace Array: [0.   0.25 0.5  0.75 1.  ]\n"
     ]
    }
   ],
   "source": [
    "import numpy as np\n",
    "\n",
    "# Creating various types of arrays\n",
    "array_1d = np.array([1, 2, 3, 4])\n",
    "array_2d = np.array([[1, 2], [3, 4]])\n",
    "zeros = np.zeros((3, 3))\n",
    "ones = np.ones((2, 2))\n",
    "range_array = np.arange(0, 10, 2)\n",
    "linspace_array = np.linspace(0, 1, 5)\n",
    "\n",
    "print(\"1D Array:\", array_1d)\n",
    "print(\"2D Array:\\n\", array_2d)\n",
    "print(\"Zeros Array:\\n\", zeros)\n",
    "print(\"Ones Array:\\n\", ones)\n",
    "print(\"Range Array:\", range_array)\n",
    "print(\"Linspace Array:\", linspace_array)\n"
   ]
  },
  {
   "cell_type": "code",
   "execution_count": 2,
   "id": "1a939c32-a5c4-4915-88b5-8fe3335bb56c",
   "metadata": {},
   "outputs": [],
   "source": [
    "arr = np.arange(5,55,5)"
   ]
  },
  {
   "cell_type": "code",
   "execution_count": 3,
   "id": "1a2d6945-724f-48ed-bfcb-45f9698de945",
   "metadata": {},
   "outputs": [
    {
     "data": {
      "text/plain": [
       "array([ 5, 10, 15, 20, 25, 30, 35, 40, 45, 50])"
      ]
     },
     "execution_count": 3,
     "metadata": {},
     "output_type": "execute_result"
    }
   ],
   "source": [
    "arr"
   ]
  },
  {
   "cell_type": "markdown",
   "id": "fd25f26e-6e12-4a42-8fa5-5f9e6492bd4e",
   "metadata": {},
   "source": [
    "# 2. Array Indexing and Slicing"
   ]
  },
  {
   "cell_type": "code",
   "execution_count": 4,
   "id": "eb0fa8aa-aecd-4be4-a8f0-61ee7d9ddf4a",
   "metadata": {},
   "outputs": [
    {
     "name": "stdout",
     "output_type": "stream",
     "text": [
      "Indexing single element: 30\n",
      "Slicing a subarray: [20 30 40]\n",
      "Indexing 2D array element: 3\n",
      "Slicing subarray from 2D array:\n",
      " [[4 5]\n",
      " [7 8]]\n"
     ]
    }
   ],
   "source": [
    "import numpy as np\n",
    "\n",
    "# 1D Array\n",
    "arr = np.array([10, 20, 30, 40, 50])\n",
    "print(\"Indexing single element:\", arr[2])  # 30\n",
    "print(\"Slicing a subarray:\", arr[1:4])    # [20, 30, 40]\n",
    "\n",
    "# 2D Array\n",
    "arr_2d = np.array([[1, 2, 3], [4, 5, 6], [7, 8, 9]])\n",
    "print(\"Indexing 2D array element:\", arr_2d[0, 2])  # 3\n",
    "print(\"Slicing subarray from 2D array:\\n\", arr_2d[1:, :2])  # [[4, 5], [7, 8]]\n"
   ]
  },
  {
   "cell_type": "code",
   "execution_count": 5,
   "id": "7a4db007-cf88-43d3-afea-9c7a0ba901ca",
   "metadata": {},
   "outputs": [],
   "source": [
    "arr_2d = np.array([[10, 20, 30], \n",
    "                   [40, 50, 60], \n",
    "                   [70, 80, 90]])\n"
   ]
  },
  {
   "cell_type": "code",
   "execution_count": 6,
   "id": "d24efdda-bd5b-46b4-9246-d888f9b97c52",
   "metadata": {},
   "outputs": [
    {
     "name": "stdout",
     "output_type": "stream",
     "text": [
      "[[60]\n",
      " [90]]\n"
     ]
    }
   ],
   "source": [
    "print(arr_2d[1:, 2:])\n"
   ]
  },
  {
   "cell_type": "markdown",
   "id": "61effb2a-58e9-458b-a974-0b99b52f3899",
   "metadata": {},
   "source": [
    "# 3. Array Shape and Reshaping\n"
   ]
  },
  {
   "cell_type": "code",
   "execution_count": 7,
   "id": "5e833395-38c4-4c32-8848-8327b3e83743",
   "metadata": {},
   "outputs": [
    {
     "name": "stdout",
     "output_type": "stream",
     "text": [
      "Reshaped Array:\n",
      " [[1 2 3]\n",
      " [4 5 6]]\n",
      "Shape of the array: (2, 3)\n",
      "Flattened Array: [1 2 3 4 5 6]\n"
     ]
    }
   ],
   "source": [
    "import numpy as np\n",
    "\n",
    "# Original array\n",
    "arr = np.array([1, 2, 3, 4, 5, 6])\n",
    "\n",
    "# Reshape to 2x3 array\n",
    "reshaped = arr.reshape(2, 3)\n",
    "print(\"Reshaped Array:\\n\", reshaped)\n",
    "\n",
    "\n",
    "\n",
    "\n",
    "\n",
    "# Get shape of the reshaped array\n",
    "print(\"Shape of the array:\", reshaped.shape)\n",
    "\n",
    "# Flatten the reshaped array\n",
    "flattened = reshaped.ravel()\n",
    "print(\"Flattened Array:\", flattened)\n"
   ]
  },
  {
   "cell_type": "code",
   "execution_count": 8,
   "id": "bfc4edfe-ae96-4061-963d-78e1755918c5",
   "metadata": {},
   "outputs": [],
   "source": [
    "arr = np.array([1, 2, 3, 4, 5, 6, 7, 8, 9, 10, 11, 12])"
   ]
  },
  {
   "cell_type": "code",
   "execution_count": 9,
   "id": "d373d4b2-44a7-4902-8392-ba2731efb10e",
   "metadata": {},
   "outputs": [
    {
     "data": {
      "text/plain": [
       "array([[ 1,  2,  3,  4],\n",
       "       [ 5,  6,  7,  8],\n",
       "       [ 9, 10, 11, 12]])"
      ]
     },
     "execution_count": 9,
     "metadata": {},
     "output_type": "execute_result"
    }
   ],
   "source": [
    "arr.reshape(3,4)"
   ]
  },
  {
   "cell_type": "markdown",
   "id": "889cb1f2-2a88-4e9e-b6f8-cae444426fcf",
   "metadata": {},
   "source": [
    "# 4. Mathematical Operations"
   ]
  },
  {
   "cell_type": "markdown",
   "id": "7c4a0a55-c43b-4d9b-9d03-7ddd87100e26",
   "metadata": {},
   "source": [
    "***Element-wise Operations:***"
   ]
  },
  {
   "cell_type": "code",
   "execution_count": 10,
   "id": "623dcb78-e4aa-4872-86ff-eb522abd5c06",
   "metadata": {},
   "outputs": [
    {
     "name": "stdout",
     "output_type": "stream",
     "text": [
      "Addition: [5 7 9]\n",
      "Subtraction: [-3 -3 -3]\n",
      "Multiplication: [ 4 10 18]\n",
      "Division: [0.25 0.4  0.5 ]\n"
     ]
    }
   ],
   "source": [
    "a = np.array([1, 2, 3])\n",
    "b = np.array([4, 5, 6])\n",
    "\n",
    "print(\"Addition:\", a + b)          # Output: [5 7 9]\n",
    "print(\"Subtraction:\", a - b)       # Output: [-3 -3 -3]\n",
    "print(\"Multiplication:\", a * b)    # Output: [ 4 10 18]\n",
    "print(\"Division:\", a / b)          # Output: [0.25 0.4  0.5 ]\n"
   ]
  },
  {
   "cell_type": "markdown",
   "id": "ff817bc4-2888-4825-a16f-163f97eaf181",
   "metadata": {},
   "source": [
    "***Aggregate Functions***"
   ]
  },
  {
   "cell_type": "code",
   "execution_count": 11,
   "id": "28593bf4-2d6f-44aa-b73d-b3d1bef6609a",
   "metadata": {},
   "outputs": [
    {
     "name": "stdout",
     "output_type": "stream",
     "text": [
      "Sum: 21\n",
      "Mean: 3.5\n",
      "Max: 6\n",
      "Min: 1\n"
     ]
    }
   ],
   "source": [
    "arr = np.array([[1, 2, 3], [4, 5, 6]])\n",
    "\n",
    "print(\"Sum:\", arr.sum())             # Output: 21\n",
    "print(\"Mean:\", arr.mean())           # Output: 3.5\n",
    "print(\"Max:\", arr.max())             # Output: 6\n",
    "print(\"Min:\", arr.min())             # Output: 1\n"
   ]
  },
  {
   "cell_type": "markdown",
   "id": "d15c7cc3-5a31-4b1e-883a-f5d4aebc1296",
   "metadata": {},
   "source": [
    "***Applying Functions:***"
   ]
  },
  {
   "cell_type": "code",
   "execution_count": 12,
   "id": "4e463a9d-2705-48a4-87dc-317e7dcdf241",
   "metadata": {},
   "outputs": [
    {
     "name": "stdout",
     "output_type": "stream",
     "text": [
      "Square Root: [1. 2. 3. 4.]\n"
     ]
    }
   ],
   "source": [
    "arr = np.array([1, 4, 9, 16])\n",
    "print(\"Square Root:\", np.sqrt(arr))  # Output: [1. 2. 3. 4.]\n"
   ]
  },
  {
   "cell_type": "markdown",
   "id": "d497fbd2-f211-474b-a7d7-a83e8b28de68",
   "metadata": {},
   "source": [
    "# 5. Array Broadcasting"
   ]
  },
  {
   "cell_type": "code",
   "execution_count": 13,
   "id": "fc907108-10bc-449e-83f4-53ae222da352",
   "metadata": {},
   "outputs": [
    {
     "name": "stdout",
     "output_type": "stream",
     "text": [
      "Broadcasted Result:\n",
      " [[11 12 13]\n",
      " [21 22 23]\n",
      " [31 32 33]]\n"
     ]
    }
   ],
   "source": [
    "import numpy as np\n",
    "\n",
    "# Example of broadcasting\n",
    "a = np.array([1, 2, 3])\n",
    "b = np.array([[10], [20], [30]])\n",
    "\n",
    "result = a + b\n",
    "print(\"Broadcasted Result:\\n\", result)\n"
   ]
  },
  {
   "cell_type": "markdown",
   "id": "05dce7ba-c0c6-4a98-a2cc-7a121057df4b",
   "metadata": {},
   "source": [
    "# 6. Array Concatenation and Splitting\n"
   ]
  },
  {
   "cell_type": "code",
   "execution_count": 14,
   "id": "0fb3c0fe-fb8b-4ecb-b927-4bdf30cadf87",
   "metadata": {},
   "outputs": [
    {
     "name": "stdout",
     "output_type": "stream",
     "text": [
      "Concatenated 1D Array: [1 2 3 4 5 6]\n",
      "Concatenated 2D Array:\n",
      " [[1 2]\n",
      " [3 4]\n",
      " [5 6]\n",
      " [7 8]]\n",
      "Left Array: [1 2 3]\n",
      "Right Array: [4 5 6]\n"
     ]
    }
   ],
   "source": [
    "import numpy as np\n",
    "\n",
    "# Concatenation\n",
    "a = np.array([1, 2, 3])\n",
    "b = np.array([4, 5, 6])\n",
    "concatenated_1d = np.concatenate((a, b))\n",
    "print(\"Concatenated 1D Array:\", concatenated_1d)\n",
    "\n",
    "# Concatenating 2D arrays\n",
    "arr1 = np.array([[1, 2], [3, 4]])\n",
    "arr2 = np.array([[5, 6], [7, 8]])\n",
    "concatenated_2d = np.concatenate((arr1, arr2), axis=0)\n",
    "print(\"Concatenated 2D Array:\\n\", concatenated_2d)\n",
    "\n",
    "# Splitting\n",
    "arr = np.array([1, 2, 3, 4, 5, 6])\n",
    "left, right = np.split(arr, 2)\n",
    "print(\"Left Array:\", left)\n",
    "print(\"Right Array:\", right)\n"
   ]
  },
  {
   "cell_type": "markdown",
   "id": "81ddef49-56b7-4fc5-83ad-1328f3bdeb3d",
   "metadata": {},
   "source": [
    "# 7. Indexing with Boolean Arrays"
   ]
  },
  {
   "cell_type": "code",
   "execution_count": 15,
   "id": "d850cc43-ad3d-42bc-8fa1-9cf9a38398c9",
   "metadata": {},
   "outputs": [
    {
     "name": "stdout",
     "output_type": "stream",
     "text": [
      "Mask: [False False  True  True  True]\n",
      "Filtered Array: [30 40 50]\n",
      "Filtered Array with combined conditions: [30 40]\n"
     ]
    }
   ],
   "source": [
    "import numpy as np\n",
    "\n",
    "# Create an array\n",
    "arr = np.array([10, 20, 30, 40, 50])\n",
    "\n",
    "# Basic boolean indexing\n",
    "mask = arr > 25\n",
    "print(\"Mask:\", mask)  # Output: [False False  True  True  True]\n",
    "filtered_arr = arr[mask]\n",
    "print(\"Filtered Array:\", filtered_arr)  # Output: [30 40 50]\n",
    "\n",
    "# Combining conditions\n",
    "mask_combined = (arr > 20) & (arr < 50)\n",
    "mask_or = (arr < 15) | (arr > 25)  # True if either condition is met\n",
    "mask_not = ~ (arr >20)  # True if condition is not met (i.e., values >= 20)\n",
    "\n",
    "filtered_combined = arr[mask_combined]\n",
    "print(\"Filtered Array with combined conditions:\", filtered_combined)  # Output: [30 40]\n"
   ]
  },
  {
   "cell_type": "markdown",
   "id": "8bcb19a7-ae1a-435f-a0d5-0087a29b3149",
   "metadata": {},
   "source": [
    "#  8. File I/O with NumPy"
   ]
  },
  {
   "cell_type": "code",
   "execution_count": 16,
   "id": "866853ca-22ae-49f9-a74e-c75258c5d248",
   "metadata": {},
   "outputs": [
    {
     "name": "stdout",
     "output_type": "stream",
     "text": [
      "Loaded Array from .npy:\n",
      " [[1 2 3]\n",
      " [4 5 6]]\n",
      "Loaded Array from .txt:\n",
      " [[1. 2. 3.]\n",
      " [4. 5. 6.]]\n"
     ]
    }
   ],
   "source": [
    "import numpy as np\n",
    "\n",
    "# Create an array\n",
    "arr = np.array([[1, 2, 3], [4, 5, 6]])\n",
    "\n",
    "# Save the array in binary and text formats\n",
    "np.save('array.npy', arr)\n",
    "np.savetxt('array.txt', arr, delimiter=',')\n",
    "\n",
    "# Load the arrays back\n",
    "loaded_arr = np.load('array.npy')\n",
    "loaded_arr_txt = np.loadtxt('array.txt', delimiter=',')\n",
    "print(\"Loaded Array from .npy:\\n\", loaded_arr)\n",
    "print(\"Loaded Array from .txt:\\n\", loaded_arr_txt)\n"
   ]
  },
  {
   "cell_type": "markdown",
   "id": "4b6ad5cf-f0a3-4dfe-889c-85681f4c39c4",
   "metadata": {},
   "source": [
    "# 9. Basic Statistics with NumPy"
   ]
  },
  {
   "cell_type": "code",
   "execution_count": 17,
   "id": "d06c57a6-d25d-4e28-a843-2912e874c965",
   "metadata": {},
   "outputs": [
    {
     "name": "stdout",
     "output_type": "stream",
     "text": [
      "Mean: 3.0\n",
      "Median: 3.0\n",
      "Standard Deviation: 1.4142135623730951\n",
      "Variance: 2.0\n",
      "Sum: 15\n",
      "Min: 1\n",
      "Max: 5\n"
     ]
    }
   ],
   "source": [
    "import numpy as np\n",
    "\n",
    "# Create an array\n",
    "arr = np.array([1, 2, 3, 4, 5])\n",
    "\n",
    "# Calculate statistics\n",
    "mean_value = arr.mean()\n",
    "median_value = np.median(arr)\n",
    "std_dev = arr.std()\n",
    "variance = arr.var()\n",
    "total = arr.sum()\n",
    "minimum = arr.min()\n",
    "maximum = arr.max()\n",
    "\n",
    "# Print results\n",
    "print(\"Mean:\", mean_value)\n",
    "print(\"Median:\", median_value)\n",
    "print(\"Standard Deviation:\", std_dev)\n",
    "print(\"Variance:\", variance)\n",
    "print(\"Sum:\", total)\n",
    "print(\"Min:\", minimum)\n",
    "print(\"Max:\", maximum)\n"
   ]
  },
  {
   "cell_type": "markdown",
   "id": "4cbbebed-5681-48de-aca2-bcdf4e8de380",
   "metadata": {},
   "source": [
    "# 10. Linear Algebra with NumPy\n"
   ]
  },
  {
   "cell_type": "code",
   "execution_count": 18,
   "id": "782fa287-d1b8-42de-b299-f0b6498d57bf",
   "metadata": {},
   "outputs": [
    {
     "name": "stdout",
     "output_type": "stream",
     "text": [
      "Dot Product: 32\n",
      "32\n",
      "Matrix Product:\n",
      " [[19 22]\n",
      " [43 50]]\n",
      "[[19 22]\n",
      " [43 50]]\n",
      "Inverse Matrix:\n",
      " [[-2.   1. ]\n",
      " [ 1.5 -0.5]]\n",
      "Determinant: -2.0000000000000004\n"
     ]
    }
   ],
   "source": [
    "import numpy as np\n",
    "\n",
    "# Dot product\n",
    "a = np.array([1, 2, 3])\n",
    "b = np.array([4, 5, 6])\n",
    "dot_product = np.dot(a, b)\n",
    "print(\"Dot Product:\", dot_product)\n",
    "print(a @ b)\n",
    "\n",
    "# Matrix multiplication\n",
    "A = np.array([[1, 2], [3, 4]])\n",
    "B = np.array([[5, 6], [7, 8]])\n",
    "matrix_product = np.matmul(A, B)\n",
    "print(\"Matrix Product:\\n\", matrix_product)\n",
    "print(A @ B)\n",
    "\n",
    "\n",
    "# Inverse of a matrix\n",
    "matrix = np.array([[1, 2], [3, 4]])\n",
    "inverse_matrix = np.linalg.inv(matrix)\n",
    "print(\"Inverse Matrix:\\n\", inverse_matrix)\n",
    "\n",
    "# Determinant\n",
    "determinant = np.linalg.det(matrix)\n",
    "print(\"Determinant:\", determinant)\n"
   ]
  },
  {
   "cell_type": "markdown",
   "id": "1c33bf16-137a-433b-83a6-16d9f9d9fdd3",
   "metadata": {},
   "source": [
    "# 12. Random Number Generation with NumPy"
   ]
  },
  {
   "cell_type": "code",
   "execution_count": 19,
   "id": "83f884c3-abf7-4a65-b2b3-233bd27b58f4",
   "metadata": {},
   "outputs": [
    {
     "name": "stdout",
     "output_type": "stream",
     "text": [
      "Random Floats: [0.06052674 0.89875508 0.29994317]\n",
      "Random Integers: [4 8 1 4 2]\n",
      "Random Normals: [ 1.79702745 -2.02160764  0.18778176 -0.6357593  -1.05303647]\n",
      "Reproducible Random Floats: [0.37454012 0.95071431 0.73199394]\n"
     ]
    }
   ],
   "source": [
    "import numpy as np\n",
    "\n",
    "# Random floats\n",
    "random_floats = np.random.rand(3)\n",
    "print(\"Random Floats:\", random_floats)\n",
    "\n",
    "# Random integers\n",
    "random_ints = np.random.randint(1, 10, size=5)\n",
    "print(\"Random Integers:\", random_ints)\n",
    "\n",
    "# Random samples from a normal distribution\n",
    "random_normals = np.random.randn(5)\n",
    "print(\"Random Normals:\", random_normals)\n",
    "\n",
    "# Setting a seed\n",
    "np.random.seed(42)\n",
    "reproducible_randoms = np.random.rand(3)\n",
    "print(\"Reproducible Random Floats:\", reproducible_randoms)\n"
   ]
  },
  {
   "cell_type": "code",
   "execution_count": null,
   "id": "8320878b-4fa1-4b07-b5f8-794d67c077a4",
   "metadata": {},
   "outputs": [],
   "source": []
  }
 ],
 "metadata": {
  "kernelspec": {
   "display_name": "Python 3 (ipykernel)",
   "language": "python",
   "name": "python3"
  },
  "language_info": {
   "codemirror_mode": {
    "name": "ipython",
    "version": 3
   },
   "file_extension": ".py",
   "mimetype": "text/x-python",
   "name": "python",
   "nbconvert_exporter": "python",
   "pygments_lexer": "ipython3",
   "version": "3.12.4"
  }
 },
 "nbformat": 4,
 "nbformat_minor": 5
}
