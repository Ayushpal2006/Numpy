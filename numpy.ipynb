{
  "cells": [
    {
      "cell_type": "markdown",
      "metadata": {
        "id": "view-in-github",
        "colab_type": "text"
      },
      "source": [
        "<a href=\"https://colab.research.google.com/github/Ayushpal2006/Numpy/blob/main/numpy.ipynb\" target=\"_parent\"><img src=\"https://colab.research.google.com/assets/colab-badge.svg\" alt=\"Open In Colab\"/></a>"
      ]
    },
    {
      "cell_type": "markdown",
      "id": "f45825a8-fbd6-449c-98d6-22e8147f20a0",
      "metadata": {
        "editable": true,
        "jp-MarkdownHeadingCollapsed": true,
        "tags": [],
        "id": "f45825a8-fbd6-449c-98d6-22e8147f20a0"
      },
      "source": [
        "# NUMPY IMPORT"
      ]
    },
    {
      "cell_type": "code",
      "execution_count": null,
      "id": "4eff2a48-ed2a-4173-9cdf-8445f6d4fd11",
      "metadata": {
        "id": "4eff2a48-ed2a-4173-9cdf-8445f6d4fd11"
      },
      "outputs": [],
      "source": [
        "import numpy as np"
      ]
    },
    {
      "cell_type": "markdown",
      "id": "08c95d7f-5f32-4498-b04d-961c890823fe",
      "metadata": {
        "id": "08c95d7f-5f32-4498-b04d-961c890823fe"
      },
      "source": [
        "ARRAY CREATION 1D AND 2D"
      ]
    },
    {
      "cell_type": "code",
      "execution_count": null,
      "id": "4d985248-9b8e-47a5-a23d-87d19149fc7b",
      "metadata": {
        "id": "4d985248-9b8e-47a5-a23d-87d19149fc7b"
      },
      "outputs": [],
      "source": [
        "arr=np.array([1,2,8,4])\n",
        "matrix=np.array([[1,3],[5,9]])"
      ]
    },
    {
      "cell_type": "code",
      "execution_count": null,
      "id": "8f690588-ef60-4bc5-99e2-d010e7ebfc06",
      "metadata": {
        "colab": {
          "base_uri": "https://localhost:8080/"
        },
        "id": "8f690588-ef60-4bc5-99e2-d010e7ebfc06",
        "outputId": "b78b661b-b5a1-4c3f-9f06-79b1e9b0f120"
      },
      "outputs": [
        {
          "output_type": "stream",
          "name": "stdout",
          "text": [
            "[1 2 8 4]\n",
            "[[1 3]\n",
            " [5 9]]\n"
          ]
        }
      ],
      "source": [
        "print(arr)\n",
        "print(matrix)"
      ]
    },
    {
      "cell_type": "markdown",
      "id": "4e99f7f0-4483-4ce1-8859-3a07a96534cd",
      "metadata": {
        "id": "4e99f7f0-4483-4ce1-8859-3a07a96534cd"
      },
      "source": [
        "Shape,size,datatype and dimension"
      ]
    },
    {
      "cell_type": "code",
      "execution_count": null,
      "id": "4fc2b7d3-3c48-4d60-bca9-3e81cc952028",
      "metadata": {
        "colab": {
          "base_uri": "https://localhost:8080/"
        },
        "id": "4fc2b7d3-3c48-4d60-bca9-3e81cc952028",
        "outputId": "666e7cd9-4544-43b7-a276-092a3b3d816e"
      },
      "outputs": [
        {
          "output_type": "stream",
          "name": "stdout",
          "text": [
            "(4,) 4 int64 1\n"
          ]
        }
      ],
      "source": [
        "print(arr.shape,arr.size,arr.dtype,arr.ndim)"
      ]
    },
    {
      "cell_type": "code",
      "execution_count": null,
      "id": "be9528fb-3338-4ee8-a4a6-99ae98a41fef",
      "metadata": {
        "colab": {
          "base_uri": "https://localhost:8080/"
        },
        "id": "be9528fb-3338-4ee8-a4a6-99ae98a41fef",
        "outputId": "d1a81461-02f1-4705-fddb-54ea5e23cd72"
      },
      "outputs": [
        {
          "output_type": "stream",
          "name": "stdout",
          "text": [
            "(2, 2) 4 int64 2\n"
          ]
        }
      ],
      "source": [
        "print(matrix.shape,matrix.size,matrix.dtype,matrix.ndim)"
      ]
    },
    {
      "cell_type": "markdown",
      "id": "c976a478-592f-465c-bbd4-f4396fc0d5d3",
      "metadata": {
        "id": "c976a478-592f-465c-bbd4-f4396fc0d5d3"
      },
      "source": [
        "Zero matrix of order m x n"
      ]
    },
    {
      "cell_type": "code",
      "execution_count": null,
      "id": "b9d37ddd-9472-45aa-bec5-16c9997cbcad",
      "metadata": {
        "colab": {
          "base_uri": "https://localhost:8080/"
        },
        "id": "b9d37ddd-9472-45aa-bec5-16c9997cbcad",
        "outputId": "b3264df7-379e-45c7-b8b4-5a9ed5292948"
      },
      "outputs": [
        {
          "output_type": "stream",
          "name": "stdout",
          "text": [
            "[[0. 0. 0.]\n",
            " [0. 0. 0.]]\n"
          ]
        }
      ],
      "source": [
        "print(np.zeros((2,3)))"
      ]
    },
    {
      "cell_type": "markdown",
      "id": "b4487ea9-f3fb-428f-9004-1e00d14bc618",
      "metadata": {
        "id": "b4487ea9-f3fb-428f-9004-1e00d14bc618"
      },
      "source": [
        " matrix with only 1 as element"
      ]
    },
    {
      "cell_type": "code",
      "execution_count": null,
      "id": "0b2eba90-44a7-4a66-af7f-880245d08538",
      "metadata": {
        "colab": {
          "base_uri": "https://localhost:8080/"
        },
        "id": "0b2eba90-44a7-4a66-af7f-880245d08538",
        "outputId": "c6dffd3b-7f58-4465-855d-b4687ddde87c"
      },
      "outputs": [
        {
          "output_type": "stream",
          "name": "stdout",
          "text": [
            "[[1. 1. 1.]\n",
            " [1. 1. 1.]\n",
            " [1. 1. 1.]]\n"
          ]
        }
      ],
      "source": [
        "print(np.ones((3,3)))"
      ]
    },
    {
      "cell_type": "markdown",
      "id": "dbba05c7-76d1-4183-8160-feebf944f8d9",
      "metadata": {
        "id": "dbba05c7-76d1-4183-8160-feebf944f8d9"
      },
      "source": [
        "full matrix of order m x n with single element"
      ]
    },
    {
      "cell_type": "code",
      "execution_count": null,
      "id": "441b3560-f1db-40a7-b9b2-b9aa8d7fcb03",
      "metadata": {
        "colab": {
          "base_uri": "https://localhost:8080/"
        },
        "id": "441b3560-f1db-40a7-b9b2-b9aa8d7fcb03",
        "outputId": "dac1378d-2ad5-440b-a3bb-7b9c24b0ab56"
      },
      "outputs": [
        {
          "output_type": "stream",
          "name": "stdout",
          "text": [
            "[[5 5 5]\n",
            " [5 5 5]]\n"
          ]
        }
      ],
      "source": [
        "print(np.full((2,3),5))"
      ]
    },
    {
      "cell_type": "markdown",
      "id": "e6df956d-990f-4884-add8-0e0ff35b7cdd",
      "metadata": {
        "id": "e6df956d-990f-4884-add8-0e0ff35b7cdd"
      },
      "source": [
        " identity matrix"
      ]
    },
    {
      "cell_type": "code",
      "execution_count": null,
      "id": "d757a57b-14c8-40bb-b61b-28be8e7429cc",
      "metadata": {
        "colab": {
          "base_uri": "https://localhost:8080/"
        },
        "id": "d757a57b-14c8-40bb-b61b-28be8e7429cc",
        "outputId": "198d8c01-b022-4439-8376-859aa40bdf4f"
      },
      "outputs": [
        {
          "output_type": "stream",
          "name": "stdout",
          "text": [
            "[[1. 0. 0.]\n",
            " [0. 1. 0.]\n",
            " [0. 0. 1.]]\n"
          ]
        }
      ],
      "source": [
        "print(np.eye(3))"
      ]
    },
    {
      "cell_type": "markdown",
      "id": "8d08156f-054f-451f-bed8-0e2a4b30c886",
      "metadata": {
        "id": "8d08156f-054f-451f-bed8-0e2a4b30c886"
      },
      "source": [
        "martrix with random elements ranging 0 to 1"
      ]
    },
    {
      "cell_type": "code",
      "execution_count": null,
      "id": "8732c186-15b9-4cfe-9144-6f04f5bf8bb2",
      "metadata": {
        "colab": {
          "base_uri": "https://localhost:8080/"
        },
        "id": "8732c186-15b9-4cfe-9144-6f04f5bf8bb2",
        "outputId": "a0ca69ba-c9a9-4774-f0c9-b9ff96232a66"
      },
      "outputs": [
        {
          "output_type": "stream",
          "name": "stdout",
          "text": [
            "[[0.65512269 0.38212437 0.71857242]\n",
            " [0.8726219  0.78019975 0.89966469]]\n"
          ]
        }
      ],
      "source": [
        "print(np.random.rand(2,3))"
      ]
    },
    {
      "cell_type": "markdown",
      "id": "515ae96f-af93-4f06-80a6-a0dca98b423e",
      "metadata": {
        "id": "515ae96f-af93-4f06-80a6-a0dca98b423e"
      },
      "source": [
        "matrix element in defined range"
      ]
    },
    {
      "cell_type": "markdown",
      "id": "6b7ea4dc-8cc4-41ce-bd05-8da01305ebe1",
      "metadata": {
        "id": "6b7ea4dc-8cc4-41ce-bd05-8da01305ebe1"
      },
      "source": [
        " element greater than or less than or boolean indexing"
      ]
    },
    {
      "cell_type": "code",
      "execution_count": null,
      "id": "212a7401-e03c-40d9-81b5-f37681152d66",
      "metadata": {
        "colab": {
          "base_uri": "https://localhost:8080/"
        },
        "id": "212a7401-e03c-40d9-81b5-f37681152d66",
        "outputId": "fb72b0ac-386d-4ae2-90ee-d0aad5736e61"
      },
      "outputs": [
        {
          "output_type": "execute_result",
          "data": {
            "text/plain": [
              "array([2, 8, 4])"
            ]
          },
          "metadata": {},
          "execution_count": 11
        }
      ],
      "source": [
        "arr[arr>1]"
      ]
    },
    {
      "cell_type": "markdown",
      "id": "8ed7c6c1-aa06-4cca-b313-bbb53dfa2e1f",
      "metadata": {
        "id": "8ed7c6c1-aa06-4cca-b313-bbb53dfa2e1f"
      },
      "source": [
        "sorting"
      ]
    },
    {
      "cell_type": "code",
      "execution_count": null,
      "id": "9112b4f1-4cb6-402e-bc25-7bebfa66464a",
      "metadata": {
        "colab": {
          "base_uri": "https://localhost:8080/"
        },
        "id": "9112b4f1-4cb6-402e-bc25-7bebfa66464a",
        "outputId": "70ba7435-25cc-4e70-8892-1ed123935e37"
      },
      "outputs": [
        {
          "output_type": "execute_result",
          "data": {
            "text/plain": [
              "array([1, 2, 4, 8])"
            ]
          },
          "metadata": {},
          "execution_count": 12
        }
      ],
      "source": [
        "np.sort(arr)"
      ]
    },
    {
      "cell_type": "code",
      "execution_count": null,
      "id": "60c529ae-45b2-4392-9b92-5ba19754ae7e",
      "metadata": {
        "colab": {
          "base_uri": "https://localhost:8080/"
        },
        "id": "60c529ae-45b2-4392-9b92-5ba19754ae7e",
        "outputId": "098f1bdc-6588-4f5b-9f11-6101e74e8ee0"
      },
      "outputs": [
        {
          "output_type": "execute_result",
          "data": {
            "text/plain": [
              "array([[1, 3],\n",
              "       [5, 9]])"
            ]
          },
          "metadata": {},
          "execution_count": 13
        }
      ],
      "source": [
        "np.sort(matrix)"
      ]
    },
    {
      "cell_type": "markdown",
      "id": "7b243e1b-a7d8-4271-9b37-b025ee9fc573",
      "metadata": {
        "id": "7b243e1b-a7d8-4271-9b37-b025ee9fc573"
      },
      "source": [
        "indexing"
      ]
    },
    {
      "cell_type": "code",
      "execution_count": null,
      "id": "c8fad4b9-504f-4562-85bf-b8c2c302d8d4",
      "metadata": {
        "colab": {
          "base_uri": "https://localhost:8080/"
        },
        "id": "c8fad4b9-504f-4562-85bf-b8c2c302d8d4",
        "outputId": "b4ce9f01-609f-45e2-e41b-cca323c9e2c0"
      },
      "outputs": [
        {
          "output_type": "stream",
          "name": "stdout",
          "text": [
            "8\n"
          ]
        }
      ],
      "source": [
        "print(arr[2])"
      ]
    },
    {
      "cell_type": "markdown",
      "id": "c273bc96-bc32-460d-9510-25eea85f19d9",
      "metadata": {
        "id": "c273bc96-bc32-460d-9510-25eea85f19d9"
      },
      "source": [
        "slicing"
      ]
    },
    {
      "cell_type": "code",
      "execution_count": null,
      "id": "9703fa4b-9e6d-47c5-8401-a0b7212bd68d",
      "metadata": {
        "colab": {
          "base_uri": "https://localhost:8080/"
        },
        "id": "9703fa4b-9e6d-47c5-8401-a0b7212bd68d",
        "outputId": "5cc1a928-0d93-4a6b-984b-9d976a99fff9"
      },
      "outputs": [
        {
          "output_type": "stream",
          "name": "stdout",
          "text": [
            "[2 8]\n"
          ]
        }
      ],
      "source": [
        "print(arr[1:3])"
      ]
    },
    {
      "cell_type": "markdown",
      "id": "9afa56a9-aab7-41fd-8f12-8f273a3762a0",
      "metadata": {
        "id": "9afa56a9-aab7-41fd-8f12-8f273a3762a0"
      },
      "source": [
        "array operation"
      ]
    },
    {
      "cell_type": "code",
      "execution_count": null,
      "id": "d1c25f5e-7a7b-4e5d-b058-bf1bafc4f229",
      "metadata": {
        "colab": {
          "base_uri": "https://localhost:8080/"
        },
        "id": "d1c25f5e-7a7b-4e5d-b058-bf1bafc4f229",
        "outputId": "b075a428-5d43-4988-e44e-e773da3589c9"
      },
      "outputs": [
        {
          "output_type": "stream",
          "name": "stdout",
          "text": [
            "[12 13 19 15]\n",
            "[ 7  9 21 13]\n"
          ]
        }
      ],
      "source": [
        "arr_1=arr+5\n",
        "print(arr_1+6) #broadcasting\n",
        "print(arr+arr_1)"
      ]
    },
    {
      "cell_type": "markdown",
      "id": "9f7a59fa-2f8b-4215-9961-a08c211c901f",
      "metadata": {
        "id": "9f7a59fa-2f8b-4215-9961-a08c211c901f"
      },
      "source": [
        "array mathematical operation"
      ]
    },
    {
      "cell_type": "code",
      "execution_count": null,
      "id": "ef6bff7a-a4d6-426f-8878-85490089934b",
      "metadata": {
        "colab": {
          "base_uri": "https://localhost:8080/"
        },
        "id": "ef6bff7a-a4d6-426f-8878-85490089934b",
        "outputId": "5820ea9b-d981-4736-fd3e-9e7b116dac9a"
      },
      "outputs": [
        {
          "output_type": "stream",
          "name": "stdout",
          "text": [
            "15 3.75 1 8\n",
            "18 4.5 1 9\n"
          ]
        }
      ],
      "source": [
        "#common function\n",
        "print(np.sum(arr),np.mean(arr),np.min(arr),np.max(arr))\n",
        "print(np.sum(matrix),np.mean(matrix),np.min(matrix),np.max(matrix))"
      ]
    },
    {
      "cell_type": "code",
      "execution_count": null,
      "id": "4eff1b14-6ba6-4f56-b31d-ca34b084d36c",
      "metadata": {
        "colab": {
          "base_uri": "https://localhost:8080/"
        },
        "id": "4eff1b14-6ba6-4f56-b31d-ca34b084d36c",
        "outputId": "9b1977b2-34f9-4bf3-8cba-afae4d3705c1"
      },
      "outputs": [
        {
          "output_type": "stream",
          "name": "stdout",
          "text": [
            "[ 0.84147098  0.90929743  0.98935825 -0.7568025 ]\n"
          ]
        }
      ],
      "source": [
        "#trigonomatric function\n",
        "print(np.sin(arr))"
      ]
    },
    {
      "cell_type": "code",
      "execution_count": null,
      "id": "3d50e107-a24b-46d4-afe2-1e6064091abe",
      "metadata": {
        "colab": {
          "base_uri": "https://localhost:8080/"
        },
        "id": "3d50e107-a24b-46d4-afe2-1e6064091abe",
        "outputId": "c5cfd327-b251-4271-f949-d13aa6966221"
      },
      "outputs": [
        {
          "output_type": "stream",
          "name": "stdout",
          "text": [
            "-6.0\n"
          ]
        }
      ],
      "source": [
        "#linear algebra\n",
        "print(np.linalg.det(matrix)) #determinant"
      ]
    },
    {
      "cell_type": "markdown",
      "id": "71678122-9cd9-41ae-af5f-92fc7d336f0f",
      "metadata": {
        "id": "71678122-9cd9-41ae-af5f-92fc7d336f0f"
      },
      "source": [
        "reshaping and transpose"
      ]
    },
    {
      "cell_type": "code",
      "execution_count": null,
      "id": "2ae1e314-f3ee-45f2-b1dd-c57b2241dc07",
      "metadata": {
        "colab": {
          "base_uri": "https://localhost:8080/"
        },
        "id": "2ae1e314-f3ee-45f2-b1dd-c57b2241dc07",
        "outputId": "57b020ae-dadc-4a97-ff8a-678b565a48c9"
      },
      "outputs": [
        {
          "output_type": "stream",
          "name": "stdout",
          "text": [
            "[[1 5]\n",
            " [3 9]]\n",
            "[[1 2]\n",
            " [8 4]]\n"
          ]
        }
      ],
      "source": [
        "reshape=arr.reshape(2,2)\n",
        "print(matrix.T)\n",
        "print(reshape)"
      ]
    },
    {
      "cell_type": "markdown",
      "id": "f3070495-bc65-4ef9-ab5c-ad572615c0c2",
      "metadata": {
        "jp-MarkdownHeadingCollapsed": true,
        "id": "f3070495-bc65-4ef9-ab5c-ad572615c0c2"
      },
      "source": [
        "# ARRAY advance op"
      ]
    },
    {
      "cell_type": "code",
      "execution_count": null,
      "id": "4fc50a70-0f4c-4a8e-95f1-0b4a736b3461",
      "metadata": {
        "colab": {
          "base_uri": "https://localhost:8080/"
        },
        "id": "4fc50a70-0f4c-4a8e-95f1-0b4a736b3461",
        "outputId": "6be31a3d-62ca-458d-f041-caf69f1f5b3b"
      },
      "outputs": [
        {
          "output_type": "stream",
          "name": "stdout",
          "text": [
            "[1 1 2 2 3 8 9]\n",
            "[1 2 3 8 9]\n",
            "['Smaller' 'Smaller' 'Greater' 'Greater']\n"
          ]
        }
      ],
      "source": [
        "arre=([1,1,2,2,8,3,9])\n",
        "print(np.sort(arre)) #sort\n",
        "print(np.unique(arre)) #unique element\n",
        "print(np.where(arr >= 3,'Greater','Smaller')) #condition"
      ]
    },
    {
      "cell_type": "markdown",
      "id": "2ed92301-efdc-4668-8d0f-4bb03315c827",
      "metadata": {
        "id": "2ed92301-efdc-4668-8d0f-4bb03315c827"
      },
      "source": [
        "File I/O with numpy"
      ]
    },
    {
      "cell_type": "code",
      "execution_count": null,
      "id": "7260cef3-ebbd-4726-ab3e-300e86781e59",
      "metadata": {
        "colab": {
          "base_uri": "https://localhost:8080/"
        },
        "id": "7260cef3-ebbd-4726-ab3e-300e86781e59",
        "outputId": "01196455-31c2-4e6f-8aef-4037e17ff698"
      },
      "outputs": [
        {
          "output_type": "stream",
          "name": "stdout",
          "text": [
            "[1 2 8 4]\n"
          ]
        }
      ],
      "source": [
        "np.save('array.npy',arr) #saving array\n",
        "load = np.load('array.npy') # load array\n",
        "print(load)\n",
        "np.savetxt('array.txt',arr) # saving as txt"
      ]
    },
    {
      "cell_type": "markdown",
      "id": "c72ea3b2-8abe-4bf1-9015-8740eb4c3858",
      "metadata": {
        "id": "c72ea3b2-8abe-4bf1-9015-8740eb4c3858"
      },
      "source": [
        "Concatination and spliting"
      ]
    },
    {
      "cell_type": "code",
      "execution_count": null,
      "id": "4ab5b886-e324-4fda-b96f-3419bdc0abb8",
      "metadata": {
        "colab": {
          "base_uri": "https://localhost:8080/"
        },
        "id": "4ab5b886-e324-4fda-b96f-3419bdc0abb8",
        "outputId": "03470cd4-675c-44a6-c346-9b7d454be027"
      },
      "outputs": [
        {
          "output_type": "stream",
          "name": "stdout",
          "text": [
            "[1 2 8 4 1 1 2 2 8 3 9]\n",
            "[array([1, 1, 2]), array([2, 8]), array([3, 9])]\n"
          ]
        }
      ],
      "source": [
        "print(np.concatenate((arr,arre))) #concatenate\n",
        "print(np.array_split(arre,3)) #split"
      ]
    },
    {
      "cell_type": "markdown",
      "id": "bac6eacb-3a0a-43a3-89eb-52837c389936",
      "metadata": {
        "id": "bac6eacb-3a0a-43a3-89eb-52837c389936"
      },
      "source": [
        "Performance Features"
      ]
    },
    {
      "cell_type": "raw",
      "id": "7e2debad-3ceb-4da6-88f9-00181e05a0cb",
      "metadata": {
        "id": "7e2debad-3ceb-4da6-88f9-00181e05a0cb"
      },
      "source": [
        "Vectorization: Eliminates the need for Python loops by using array operations directly.\n",
        "\n",
        "Memory Efficiency: NumPy arrays are stored in contiguous blocks of memory, unlike Python lists.\n"
      ]
    },
    {
      "cell_type": "markdown",
      "id": "7e2174f3-e502-48e5-92f7-d8d86a4bc8f5",
      "metadata": {
        "id": "7e2174f3-e502-48e5-92f7-d8d86a4bc8f5"
      },
      "source": [
        "Arange and range"
      ]
    },
    {
      "cell_type": "code",
      "execution_count": null,
      "id": "3734a5e0-9730-4568-94eb-7f6db8d5bcad",
      "metadata": {
        "colab": {
          "base_uri": "https://localhost:8080/"
        },
        "id": "3734a5e0-9730-4568-94eb-7f6db8d5bcad",
        "outputId": "f784497a-288e-45ed-e796-c1c92a713afe"
      },
      "outputs": [
        {
          "output_type": "stream",
          "name": "stdout",
          "text": [
            "[ 0.   5.2 10.4 15.6]\n",
            "0\n",
            "5\n",
            "10\n",
            "15\n",
            "[ 0  5 10 15]\n"
          ]
        }
      ],
      "source": [
        "data=np.arange(0,20,5.2) #arrange\n",
        "print(data)\n",
        "for data_1 in range(0,20,5): #simple range function in python\n",
        "    print(data_1)\n",
        "data_2=np.array(range(0,20,5)) #array with range function\n",
        "print(data_2)"
      ]
    },
    {
      "cell_type": "raw",
      "id": "d452d387-29f7-403f-9791-f2936a23397c",
      "metadata": {
        "id": "d452d387-29f7-403f-9791-f2936a23397c"
      },
      "source": [
        "range(): A Python built-in function that generates integers (no floats allowed).\n",
        "np.arange(): A NumPy function that supports integers, floats, and more flexible step sizes."
      ]
    },
    {
      "cell_type": "markdown",
      "id": "2d10349d-e0e6-4c1e-bca4-c66fb783de66",
      "metadata": {
        "id": "2d10349d-e0e6-4c1e-bca4-c66fb783de66"
      },
      "source": [
        "Differance between arrange and range"
      ]
    },
    {
      "cell_type": "raw",
      "id": "273167b9-44a6-4875-9e13-dff642c0d958",
      "metadata": {
        "id": "273167b9-44a6-4875-9e13-dff642c0d958"
      },
      "source": [
        "Feature\t                                       arange (NumPy)\t                                      range (Python)\n",
        "Output Type\t                                 NumPy array (nparray)\t                              Range object (iterable)\n",
        "Data Type\t                               Supports integers and floats                           Supports only integers\n",
        "Step\t                                   Can be fractional (e.g., 0.5)\t                        Must be an integer\n",
        "Operations\t                                 Enables array operations\t                    Used for iteration, not computation\n",
        "Example\t                                      np.arange(1, 5, 0.5)\t                                   range(1, 5, 1)\n"
      ]
    },
    {
      "cell_type": "markdown",
      "id": "1b6bd02a-c788-48dd-a849-f854a5ee60b7",
      "metadata": {
        "id": "1b6bd02a-c788-48dd-a849-f854a5ee60b7"
      },
      "source": [
        "USES"
      ]
    },
    {
      "cell_type": "raw",
      "id": "df438731-5eb6-4219-b9b9-021a5f5d8c91",
      "metadata": {
        "id": "df438731-5eb6-4219-b9b9-021a5f5d8c91"
      },
      "source": [
        "Use arange:\n",
        "\n",
        "1) When you need floating-point sequences.\n",
        "2) For numerical computations and array operations.\n",
        "\n",
        "\n",
        "Use range:\n",
        "\n",
        "1) For looping or iteration over integer sequences.\n",
        "2) When you don't need array-based computations."
      ]
    },
    {
      "cell_type": "markdown",
      "id": "8276af94-d50d-4ef8-a204-121b309aae88",
      "metadata": {
        "jp-MarkdownHeadingCollapsed": true,
        "id": "8276af94-d50d-4ef8-a204-121b309aae88"
      },
      "source": [
        "# MATRICES"
      ]
    },
    {
      "cell_type": "code",
      "execution_count": null,
      "id": "0186e9f9-dcdf-444c-8e0c-32c245cac67f",
      "metadata": {
        "colab": {
          "base_uri": "https://localhost:8080/"
        },
        "id": "0186e9f9-dcdf-444c-8e0c-32c245cac67f",
        "outputId": "6dfd9384-d3b0-49b5-8c22-19d0a830f2b5"
      },
      "outputs": [
        {
          "output_type": "stream",
          "name": "stdout",
          "text": [
            "[[ 1  6]\n",
            " [40 36]]\n",
            "\n",
            " [[25 14]\n",
            " [77 46]]\n",
            "\n",
            " [[1 3]\n",
            " [5 9]]\n",
            "\n",
            " [[1 2]\n",
            " [8 4]]\n",
            "\n",
            " [[1 5]\n",
            " [3 9]]\n",
            "\n",
            " -11.999999999999995\n",
            "\n",
            " [[-1.5         0.5       ]\n",
            " [ 0.83333333 -0.16666667]]\n",
            "\n",
            " 2\n"
          ]
        }
      ],
      "source": [
        "print(matrix*reshape)# element wise multiplication\n",
        "print(\"\\n\",matrix@reshape)#dot product or matrix product\n",
        "print(\"\\n\",matrix)\n",
        "print(\"\\n\",reshape)\n",
        "print(\"\\n\",matrix.T) #transpose\n",
        "print(\"\\n\", np.linalg.det(reshape))#determinant\n",
        "print(\"\\n\",np.linalg.inv(matrix))#inverse\n",
        "print(\"\\n\",np.linalg.matrix_rank(matrix))#rank"
      ]
    },
    {
      "cell_type": "markdown",
      "id": "42fbc0da-0ae0-4ac5-a44d-8885e9dd219a",
      "metadata": {
        "id": "42fbc0da-0ae0-4ac5-a44d-8885e9dd219a"
      },
      "source": [
        "Lenear Algebra"
      ]
    },
    {
      "cell_type": "raw",
      "id": "b2ee36ea-bc55-44b8-8ed3-655748eef3c2",
      "metadata": {
        "id": "b2ee36ea-bc55-44b8-8ed3-655748eef3c2"
      },
      "source": [
        "Eigen values and vactors"
      ]
    },
    {
      "cell_type": "code",
      "execution_count": null,
      "id": "ac703baa-4b30-4c32-8cc5-caf0a49352b4",
      "metadata": {
        "colab": {
          "base_uri": "https://localhost:8080/"
        },
        "id": "ac703baa-4b30-4c32-8cc5-caf0a49352b4",
        "outputId": "9f00acb4-8cde-4daa-a833-ffe4aa9e0849"
      },
      "outputs": [
        {
          "output_type": "stream",
          "name": "stdout",
          "text": [
            "Eigenvalues: [-0.56776436 10.56776436]\n",
            "Eigenvectors: [[-0.88627607 -0.29919012]\n",
            " [ 0.46315735 -0.95419352]]\n"
          ]
        }
      ],
      "source": [
        "values, vectors = np.linalg.eig(matrix)\n",
        "print(\"Eigenvalues:\", values)\n",
        "print(\"Eigenvectors:\", vectors)\n"
      ]
    },
    {
      "cell_type": "raw",
      "id": "d76c59b7-bda7-4888-84aa-60589bff314f",
      "metadata": {
        "id": "d76c59b7-bda7-4888-84aa-60589bff314f"
      },
      "source": [
        "linear equation solution"
      ]
    },
    {
      "cell_type": "code",
      "execution_count": null,
      "id": "8be7a715-408e-4e74-847c-19bcec34d313",
      "metadata": {
        "colab": {
          "base_uri": "https://localhost:8080/"
        },
        "id": "8be7a715-408e-4e74-847c-19bcec34d313",
        "outputId": "39aa5f02-e633-40e0-99c4-0cd85f410883"
      },
      "outputs": [
        {
          "output_type": "stream",
          "name": "stdout",
          "text": [
            "X = [1.2 5.6]\n"
          ]
        }
      ],
      "source": [
        "A = np.array([[2, 1], [1, 3]])\n",
        "B = np.array([8, 18])\n",
        "print( \"X =\",np.linalg.solve(A, B))# solve for matrix x"
      ]
    },
    {
      "cell_type": "raw",
      "id": "87376ad3-b307-463b-ac04-c31eee1f1cd9",
      "metadata": {
        "id": "87376ad3-b307-463b-ac04-c31eee1f1cd9"
      },
      "source": [
        "Trace and Dimenssion change"
      ]
    },
    {
      "cell_type": "code",
      "execution_count": null,
      "id": "ae75a234-0cd9-4322-95a3-725557c3768f",
      "metadata": {
        "colab": {
          "base_uri": "https://localhost:8080/"
        },
        "id": "ae75a234-0cd9-4322-95a3-725557c3768f",
        "outputId": "ab8b9ff3-1d44-499c-e6ed-806408f5c369"
      },
      "outputs": [
        {
          "output_type": "stream",
          "name": "stdout",
          "text": [
            "5\n",
            "[2 1 1 3]\n",
            "[[ 8]\n",
            " [18]]\n"
          ]
        }
      ],
      "source": [
        "print(np.trace(A))#trace\n",
        "print(A.flatten())#change dimenssion to 1D\n",
        "print(B.reshape(2, 1))  # reshaping matrix"
      ]
    },
    {
      "cell_type": "markdown",
      "id": "4ffa4f51-5901-410c-830c-adab47e4df2a",
      "metadata": {
        "jp-MarkdownHeadingCollapsed": true,
        "id": "4ffa4f51-5901-410c-830c-adab47e4df2a"
      },
      "source": [
        "# NUMPY Questions"
      ]
    },
    {
      "cell_type": "code",
      "execution_count": null,
      "id": "c3202957-04a3-456e-bdcd-6e0e758a3a1d",
      "metadata": {
        "colab": {
          "base_uri": "https://localhost:8080/"
        },
        "id": "c3202957-04a3-456e-bdcd-6e0e758a3a1d",
        "outputId": "c33a3447-11b5-4945-af72-faab064b2d32"
      },
      "outputs": [
        {
          "output_type": "stream",
          "name": "stdout",
          "text": [
            "[[0. 0. 0.]\n",
            " [0. 0. 0.]]\n",
            "[[3. 4. 5.]\n",
            " [7. 8. 9.]]\n",
            "[[0. 0. 0.]\n",
            " [0. 0. 0.]\n",
            " [3. 4. 5.]\n",
            " [7. 8. 9.]]\n",
            "shape of array (4, 3)\n"
          ]
        }
      ],
      "source": [
        "#output of the function\n",
        "a1 = np.zeros((2,3))\n",
        "print(a1)\n",
        "a2 = np.array([[3,4,5],[7,8,9]])\n",
        "print(a1+a2)\n",
        "a1=np.append(a1,a2,axis=0)\n",
        "print(a1)\n",
        "print('shape of array',a1.shape)"
      ]
    },
    {
      "cell_type": "code",
      "execution_count": null,
      "id": "d84f6564-bd7a-4f85-a5e3-1b7299b0e9b9",
      "metadata": {
        "colab": {
          "base_uri": "https://localhost:8080/"
        },
        "id": "d84f6564-bd7a-4f85-a5e3-1b7299b0e9b9",
        "outputId": "b1389842-5541-41bf-c263-eee9038f3985"
      },
      "outputs": [
        {
          "output_type": "stream",
          "name": "stdout",
          "text": [
            "[['student_1' 'student_2']\n",
            " ['85' '95']\n",
            " ['94' '90']\n",
            " ['97' '89']]\n",
            "\n",
            " dimenssion of marksheet = 2\n",
            "\n",
            " shape of marksheet = (4, 2)\n",
            "\n",
            " data type of marksheet = <U21\n"
          ]
        }
      ],
      "source": [
        "marks=np.random.randint(60,100,(3,2))\n",
        "student=np.array([['student_1','student_2']])\n",
        "marksheet=np.append(student,marks,axis=0)\n",
        "print(marksheet)\n",
        "print('\\n','dimenssion of marksheet =',marksheet.ndim)\n",
        "print('\\n','shape of marksheet =',marksheet.shape)\n",
        "print('\\n','data type of marksheet =',marksheet.dtype)"
      ]
    },
    {
      "cell_type": "code",
      "execution_count": null,
      "id": "202588e9-0488-43d4-b977-fbb8d0eee47f",
      "metadata": {
        "colab": {
          "base_uri": "https://localhost:8080/"
        },
        "id": "202588e9-0488-43d4-b977-fbb8d0eee47f",
        "outputId": "9177c08d-569a-4538-dc9a-e290d7815adb"
      },
      "outputs": [
        {
          "output_type": "stream",
          "name": "stdout",
          "text": [
            "1 [4 5 6] \n",
            " [0 1 2 3 4 5]\n",
            "\n",
            " [0 1 2] [[4 5 6]\n",
            " [1 2 3]]\n"
          ]
        }
      ],
      "source": [
        "b1=np.arange(6)\n",
        "b2=np.array([[1,2,3],[4,5,6]])\n",
        "print(b1[1],b2[1],'\\n',b1)\n",
        "print('\\n',b1[:3],b2[::-1])\n"
      ]
    },
    {
      "cell_type": "code",
      "execution_count": null,
      "id": "2aa79c95-13d8-4981-8d2d-269fac1aed4f",
      "metadata": {
        "colab": {
          "base_uri": "https://localhost:8080/"
        },
        "id": "2aa79c95-13d8-4981-8d2d-269fac1aed4f",
        "outputId": "68192ce9-9007-4663-d15a-8f2d64045b74"
      },
      "outputs": [
        {
          "output_type": "stream",
          "name": "stdout",
          "text": [
            "[ -4   8  14  56  29 -72]\n"
          ]
        }
      ],
      "source": [
        "narr=np.array([-4.6,8.2,14.5,56.9,29.4,-72.7])\n",
        "narr1=narr.astype(np.int_)\n",
        "print(narr1)"
      ]
    },
    {
      "cell_type": "code",
      "execution_count": null,
      "id": "ddf0f5f6-024e-4a43-a084-ac3a40201f76",
      "metadata": {
        "colab": {
          "base_uri": "https://localhost:8080/"
        },
        "id": "ddf0f5f6-024e-4a43-a084-ac3a40201f76",
        "outputId": "dc9c64b2-d3c5-4ad8-f5fc-5a9f3bc82625"
      },
      "outputs": [
        {
          "output_type": "stream",
          "name": "stdout",
          "text": [
            "int64\n",
            "[[ True  True  True]\n",
            " [False False False]]\n"
          ]
        }
      ],
      "source": [
        "arr_x=np.array([[1,2,3],[4,5,6]])\n",
        "arr_y=np.array([[3,5,7],[2,4,6]])\n",
        "print(arr_x.dtype)\n",
        "print(arr_y>arr_x)"
      ]
    },
    {
      "cell_type": "code",
      "execution_count": null,
      "id": "b5cf8837-f014-48d3-9d15-d11652744d2c",
      "metadata": {
        "colab": {
          "base_uri": "https://localhost:8080/"
        },
        "id": "b5cf8837-f014-48d3-9d15-d11652744d2c",
        "outputId": "c0f7a3b0-cafc-41bf-8fc7-59c48a90b7db"
      },
      "outputs": [
        {
          "output_type": "stream",
          "name": "stdout",
          "text": [
            "[3.  4.  2.5]\n"
          ]
        }
      ],
      "source": [
        "array = np.array([1, 2, 3, 4, 1.5, 0.5, 2.5])\n",
        "print(array[array>2])"
      ]
    },
    {
      "cell_type": "code",
      "execution_count": null,
      "id": "e5dde245-aaae-4650-90ec-37ec1de9676c",
      "metadata": {
        "scrolled": true,
        "colab": {
          "base_uri": "https://localhost:8080/"
        },
        "id": "e5dde245-aaae-4650-90ec-37ec1de9676c",
        "outputId": "98055723-2a6f-41f1-d1e9-d668d0833ad3"
      },
      "outputs": [
        {
          "output_type": "stream",
          "name": "stdout",
          "text": [
            "[[ 0  1  2  3]\n",
            " [ 4  5  6  7]\n",
            " [ 8  9 10 11]\n",
            " [12 13 14 15]]\n",
            "\n",
            " [[ 0  1  2  3]\n",
            " [ 4  5  6  7]\n",
            " [-1 -1 -1 -1]\n",
            " [-1 -1 -1 -1]]\n"
          ]
        }
      ],
      "source": [
        "a=np.arange(16).reshape(4,4)\n",
        "print(a)\n",
        "a[a>7]=-1\n",
        "print('\\n',a)"
      ]
    },
    {
      "cell_type": "code",
      "execution_count": null,
      "id": "68725c79-23a1-4a2c-a7e7-c010caf982b7",
      "metadata": {
        "colab": {
          "base_uri": "https://localhost:8080/"
        },
        "id": "68725c79-23a1-4a2c-a7e7-c010caf982b7",
        "outputId": "adfee7ab-4d2c-4460-b918-b0692477a5df"
      },
      "outputs": [
        {
          "output_type": "stream",
          "name": "stdout",
          "text": [
            "[[[1 1]\n",
            "  [1 1]]\n",
            "\n",
            " [[1 1]\n",
            "  [1 1]]]\n",
            "\n",
            " [ -7 -15   1]\n",
            "\n",
            " [[[ 3 -7]\n",
            "  [ 9  2]]]\n",
            "\n",
            " 3\n",
            "\n",
            " int64\n"
          ]
        }
      ],
      "source": [
        "arr1 =np.array([[[3,-7],[9,2]],[[-15,4],[1,2]]])\n",
        "arr2 = np.ones_like(arr1)\n",
        "print(arr2)\n",
        "print('\\n',arr1[arr1<2])\n",
        "print('\\n',arr1[::2])#start:stop:step\n",
        "print('\\n',arr1.ndim)\n",
        "print('\\n',arr1.dtype)"
      ]
    },
    {
      "cell_type": "code",
      "execution_count": null,
      "id": "c503f724-89fe-4c8b-851e-3572bd2210e7",
      "metadata": {
        "colab": {
          "base_uri": "https://localhost:8080/"
        },
        "id": "c503f724-89fe-4c8b-851e-3572bd2210e7",
        "outputId": "0adc5d3b-759a-4765-d99b-8dd7895a5ad3"
      },
      "outputs": [
        {
          "output_type": "stream",
          "name": "stdout",
          "text": [
            "[[ 0  2  4  6  8 10 12]\n",
            " [ 1  3  5  7  9 11 13]]\n",
            "[[ 0  1]\n",
            " [ 2  3]\n",
            " [ 4  5]\n",
            " [ 6  7]\n",
            " [ 8  9]\n",
            " [10 11]\n",
            " [12 13]]\n",
            "[[6]\n",
            " [8]]\n"
          ]
        },
        {
          "output_type": "execute_result",
          "data": {
            "text/plain": [
              "array([[0],\n",
              "       [4],\n",
              "       [6],\n",
              "       [8]])"
            ]
          },
          "metadata": {},
          "execution_count": 37
        }
      ],
      "source": [
        "names = np.array(['ram','raj','rahim','shamshi','gourav','raj','raj'])\n",
        "data = np.arange(14).reshape(7,2)\n",
        "print(data.T)\n",
        "result=data[names!='raj',:1]\n",
        "print(data)\n",
        "print(result[2:])\n",
        "result"
      ]
    },
    {
      "cell_type": "code",
      "execution_count": null,
      "id": "b737a0c4-8c1f-4317-bc63-1e41e08920be",
      "metadata": {
        "colab": {
          "base_uri": "https://localhost:8080/"
        },
        "id": "b737a0c4-8c1f-4317-bc63-1e41e08920be",
        "outputId": "683a4296-9c7c-49a9-96b1-f9359a50783a"
      },
      "outputs": [
        {
          "output_type": "stream",
          "name": "stdout",
          "text": [
            "[[10 11]\n",
            " [ 6  7]\n",
            " [ 0  1]]\n"
          ]
        }
      ],
      "source": [
        "print(data[[-2,-4,-7]]) #row printing"
      ]
    },
    {
      "cell_type": "code",
      "execution_count": null,
      "id": "ddc8321d-ef63-4206-81ce-61d5b9e37445",
      "metadata": {
        "colab": {
          "base_uri": "https://localhost:8080/"
        },
        "id": "ddc8321d-ef63-4206-81ce-61d5b9e37445",
        "outputId": "2e9a0c41-f694-4a00-96c0-620a4b7d4f4c"
      },
      "outputs": [
        {
          "output_type": "stream",
          "name": "stdout",
          "text": [
            "[ 2 10  5]\n"
          ]
        }
      ],
      "source": [
        "print(data[[1,5,2],[0,0,1]]) #element printing"
      ]
    },
    {
      "cell_type": "code",
      "execution_count": null,
      "id": "63e8351b-9d1d-4845-b6ea-509716e75d35",
      "metadata": {
        "colab": {
          "base_uri": "https://localhost:8080/"
        },
        "id": "63e8351b-9d1d-4845-b6ea-509716e75d35",
        "outputId": "1b96c184-6e8d-4271-f51c-736b41445e83"
      },
      "outputs": [
        {
          "output_type": "stream",
          "name": "stdout",
          "text": [
            "[[0 1]\n",
            " [2 3]\n",
            " [2 2]\n",
            " [2 2]\n",
            " [2 2]\n",
            " [2 2]\n",
            " [2 2]]\n"
          ]
        },
        {
          "output_type": "execute_result",
          "data": {
            "text/plain": [
              "2"
            ]
          },
          "metadata": {},
          "execution_count": 40
        }
      ],
      "source": [
        "d1=data[2:7:1]=2\n",
        "print(data)\n",
        "d1"
      ]
    },
    {
      "cell_type": "markdown",
      "id": "7f837f7e-eb94-44b5-be7d-02344625ce96",
      "metadata": {
        "jp-MarkdownHeadingCollapsed": true,
        "id": "7f837f7e-eb94-44b5-be7d-02344625ce96"
      },
      "source": [
        "# INDEXING AND SLICING"
      ]
    },
    {
      "cell_type": "raw",
      "id": "9d199cc2-9644-4921-98ef-ede8941dbaef",
      "metadata": {
        "id": "9d199cc2-9644-4921-98ef-ede8941dbaef"
      },
      "source": [
        "basic indexing\n",
        "start:stop:step sequence for slicing"
      ]
    },
    {
      "cell_type": "code",
      "execution_count": null,
      "id": "08122002-49c2-436f-8622-3aa5a7b53724",
      "metadata": {
        "colab": {
          "base_uri": "https://localhost:8080/"
        },
        "id": "08122002-49c2-436f-8622-3aa5a7b53724",
        "outputId": "979509ce-6aa1-41a6-9911-9ea31dc0de2f"
      },
      "outputs": [
        {
          "output_type": "stream",
          "name": "stdout",
          "text": [
            "[1 2 3]\n",
            "[[4 4 4]\n",
            " [4 5 6]\n",
            " [7 8 9]]\n",
            "5\n",
            "[[[ 0  1  2  3]\n",
            "  [ 4  5  6  7]]\n",
            "\n",
            " [[ 8  9 10 11]\n",
            "  [12 13 14 15]]]\n",
            "\n",
            " [[0 1 2 3]\n",
            " [4 5 6 7]]\n"
          ]
        },
        {
          "output_type": "execute_result",
          "data": {
            "text/plain": [
              "array([[[ 1,  1,  1,  1],\n",
              "        [ 1,  1,  1,  1]],\n",
              "\n",
              "       [[ 8,  9, 10, 11],\n",
              "        [12, 13, 14, 15]]])"
            ]
          },
          "metadata": {},
          "execution_count": 41
        }
      ],
      "source": [
        "arr_2D=np.array([[1,2,3],[4,5,6],[7,8,9]])\n",
        "arr_3D=np.arange(16).reshape(2,2,4)\n",
        "print(arr_2D[0])\n",
        "arr_2D[0]=4\n",
        "print(arr_2D)\n",
        "print(arr_2D[1,1])\n",
        "print(arr_3D)\n",
        "print('\\n',arr_3D[0])\n",
        "arr_3D[0]=1\n",
        "arr_3D"
      ]
    },
    {
      "cell_type": "raw",
      "id": "631f4c4b-5150-4694-9c25-04261f5ad8e2",
      "metadata": {
        "id": "631f4c4b-5150-4694-9c25-04261f5ad8e2"
      },
      "source": [
        "the slicing of 2D array with\n",
        "    [:2] --> row slicing\n",
        "    [:2,1:]---> [row,colum]\n",
        "    this also change tje dimenssion of the array"
      ]
    },
    {
      "cell_type": "code",
      "execution_count": null,
      "id": "870cafd9-1d9f-40c7-8e8e-05d0b89deb19",
      "metadata": {
        "colab": {
          "base_uri": "https://localhost:8080/"
        },
        "id": "870cafd9-1d9f-40c7-8e8e-05d0b89deb19",
        "outputId": "7ad107b3-f10c-4136-fa26-972e8010713f"
      },
      "outputs": [
        {
          "output_type": "stream",
          "name": "stdout",
          "text": [
            "[[4 4 4]\n",
            " [4 5 6]]\n",
            "[[5 6]\n",
            " [8 9]] (2, 2)\n"
          ]
        }
      ],
      "source": [
        "print(arr_2D[:2])\n",
        "lower_dim=arr_2D[1:,1:]\n",
        "print(lower_dim,lower_dim.shape)"
      ]
    },
    {
      "cell_type": "raw",
      "id": "d68e04d2-9f3e-41ae-a336-c8817b52d116",
      "metadata": {
        "id": "d68e04d2-9f3e-41ae-a336-c8817b52d116"
      },
      "source": [
        "boolean indexing"
      ]
    },
    {
      "cell_type": "code",
      "execution_count": null,
      "id": "261b4969-d6f9-4a19-9959-b8670211b32d",
      "metadata": {
        "colab": {
          "base_uri": "https://localhost:8080/"
        },
        "id": "261b4969-d6f9-4a19-9959-b8670211b32d",
        "outputId": "2c8da937-e28e-4c1e-a7e9-2c4689468f80"
      },
      "outputs": [
        {
          "output_type": "stream",
          "name": "stdout",
          "text": [
            "[[ 0  1]\n",
            " [ 2  3]\n",
            " [ 4  5]\n",
            " [ 6  7]\n",
            " [ 8  9]\n",
            " [10 11]\n",
            " [12 13]]\n",
            "[[0 1]\n",
            " [4 5]\n",
            " [6 7]\n",
            " [8 9]]\n",
            "[[0]\n",
            " [4]\n",
            " [6]\n",
            " [8]]\n"
          ]
        }
      ],
      "source": [
        "names = np.array(['ram','raj','rahim','shamshi','gourav','raj','raj'])\n",
        "data = np.arange(14).reshape(7,2)\n",
        "print(data)\n",
        "print(data[names!='raj'])#boolean inexing\n",
        "print(data[names!='raj',:1])"
      ]
    },
    {
      "cell_type": "raw",
      "id": "1f046167-dacf-47f6-8e0b-7b2853c35a13",
      "metadata": {
        "id": "1f046167-dacf-47f6-8e0b-7b2853c35a13"
      },
      "source": [
        "fancy indexing"
      ]
    },
    {
      "cell_type": "code",
      "execution_count": null,
      "id": "e191c65f-859a-44b7-8f4a-21ba62f5f7b3",
      "metadata": {
        "colab": {
          "base_uri": "https://localhost:8080/"
        },
        "id": "e191c65f-859a-44b7-8f4a-21ba62f5f7b3",
        "outputId": "c3157d0c-2350-4929-eef6-151b378cbe55"
      },
      "outputs": [
        {
          "output_type": "stream",
          "name": "stdout",
          "text": [
            "[[0 0 0 0 0 0 0 0]\n",
            " [1 1 1 1 1 1 1 1]\n",
            " [2 2 2 2 2 2 2 2]\n",
            " [3 3 3 3 3 3 3 3]\n",
            " [4 4 4 4 4 4 4 4]\n",
            " [5 5 5 5 5 5 5 5]\n",
            " [6 6 6 6 6 6 6 6]\n",
            " [7 7 7 7 7 7 7 7]]\n",
            "\n",
            " [4 5 6 0]\n",
            "\n",
            " [[4 4 4 4]\n",
            " [5 5 5 5]\n",
            " [6 6 6 6]\n",
            " [0 0 0 0]]\n",
            "\n",
            " [[0 0 0 9 0 0 0 0]\n",
            " [1 1 1 1 1 1 1 1]\n",
            " [2 2 2 2 2 2 2 2]\n",
            " [3 3 3 3 3 3 3 3]\n",
            " [4 4 9 4 4 4 4 4]\n",
            " [5 9 5 5 5 5 5 5]\n",
            " [9 6 6 6 6 6 6 6]\n",
            " [7 7 7 7 7 7 7 7]]\n",
            "\n",
            " [[5 1 2 3 4 5 9 7]\n",
            " [0 5 2 3 4 9 6 7]\n",
            " [0 1 5 3 9 5 6 7]\n",
            " [9 1 2 5 4 5 6 7]\n",
            " [0 1 2 3 5 5 6 7]\n",
            " [0 1 2 3 4 5 6 7]\n",
            " [0 1 2 3 4 5 5 7]\n",
            " [0 1 2 3 4 5 6 5]]\n"
          ]
        }
      ],
      "source": [
        "arr_fa=np.zeros((8,8))\n",
        "for i in range(8):\n",
        "    arr_fa[i]=i\n",
        "print(arr_fa.astype(int))\n",
        "print('\\n',arr_fa[[4,5,6,0],[2,1,0,3]].astype(int))\n",
        "print('\\n',arr_fa[[4,5,6,0]][:,[2,1,0,3]].astype(int))\n",
        "arr_fa[[4,5,6,0],[2,1,0,3]]=9\n",
        "print('\\n',arr_fa.astype(int))\n",
        "arr_fa=arr_fa.swapaxes(0,1) #transpose can be use with function swapaxes function\n",
        "for i in range(8):\n",
        "    arr_fa[i,i]=5\n",
        "print('\\n',arr_fa.astype(int))"
      ]
    },
    {
      "cell_type": "markdown",
      "id": "c8c3d491-34f7-4cd3-8edf-4991205ad407",
      "metadata": {
        "jp-MarkdownHeadingCollapsed": true,
        "id": "c8c3d491-34f7-4cd3-8edf-4991205ad407"
      },
      "source": [
        "# Pseudonumber Generation"
      ]
    },
    {
      "cell_type": "code",
      "execution_count": null,
      "id": "f641e578-8d87-44f9-bb1e-56e8a55cac7f",
      "metadata": {
        "colab": {
          "base_uri": "https://localhost:8080/"
        },
        "id": "f641e578-8d87-44f9-bb1e-56e8a55cac7f",
        "outputId": "09496083-fc4d-4575-af5e-6fa822676b6f"
      },
      "outputs": [
        {
          "output_type": "stream",
          "name": "stdout",
          "text": [
            "[[-0.83636353  2.03842768 -1.1682877   0.40161234]\n",
            " [-0.56711377 -0.99796877 -0.43470595  1.46230908]\n",
            " [-0.02525291 -0.22214412 -0.62161967 -1.43949062]\n",
            " [ 0.65372424 -0.22769335 -2.27682792 -0.0390148 ]]\n",
            "[[90 40 28]\n",
            " [27 69  6]]\n"
          ]
        }
      ],
      "source": [
        "sam=np.random.standard_normal((4,4))\n",
        "sam1=np.random.randint(1,100,(2,3))\n",
        "print(sam)\n",
        "print(sam1)"
      ]
    },
    {
      "cell_type": "code",
      "execution_count": null,
      "id": "7ce7c889-d1c9-4ae0-86b6-147fee1fcc01",
      "metadata": {
        "colab": {
          "base_uri": "https://localhost:8080/"
        },
        "id": "7ce7c889-d1c9-4ae0-86b6-147fee1fcc01",
        "outputId": "73509b59-a82e-4c9d-8b70-4d875b28d3f9"
      },
      "outputs": [
        {
          "output_type": "stream",
          "name": "stdout",
          "text": [
            "832 ms ± 277 ms per loop (mean ± std. dev. of 7 runs, 1 loop each)\n",
            "34.8 ms ± 9.03 ms per loop (mean ± std. dev. of 7 runs, 10 loops each)\n"
          ]
        }
      ],
      "source": [
        "from random import normalvariate\n",
        "N = 1_000_000\n",
        "%timeit samples = [normalvariate(0, 1) for _ in range(N)]\n",
        "%timeit np.random.standard_normal(N)\n"
      ]
    },
    {
      "cell_type": "code",
      "execution_count": null,
      "id": "ca1b0b54-be60-42e8-b771-8cee19074c23",
      "metadata": {
        "colab": {
          "base_uri": "https://localhost:8080/"
        },
        "id": "ca1b0b54-be60-42e8-b771-8cee19074c23",
        "outputId": "0c2ee1a9-50c9-412a-d4e3-ae5a7cf9764d"
      },
      "outputs": [
        {
          "output_type": "stream",
          "name": "stdout",
          "text": [
            "[[-1.42382504  1.26372846 -0.87066174]\n",
            " [-0.25917323 -0.07534331 -0.74088465]]\n"
          ]
        },
        {
          "output_type": "execute_result",
          "data": {
            "text/plain": [
              "numpy.random._generator.Generator"
            ]
          },
          "metadata": {},
          "execution_count": 47
        }
      ],
      "source": [
        "rng = np.random.default_rng(seed=12345)\n",
        "sam2 = rng.standard_normal((2, 3))\n",
        "print(sam2)\n",
        "type(rng)"
      ]
    },
    {
      "cell_type": "markdown",
      "id": "48a21a28-89a2-4731-94d3-f46341e05a61",
      "metadata": {
        "jp-MarkdownHeadingCollapsed": true,
        "id": "48a21a28-89a2-4731-94d3-f46341e05a61"
      },
      "source": [
        "# Numpy advance question\n"
      ]
    },
    {
      "cell_type": "code",
      "execution_count": null,
      "id": "53e61bd9-0b76-49ef-a641-a3757de2d27d",
      "metadata": {
        "colab": {
          "base_uri": "https://localhost:8080/"
        },
        "id": "53e61bd9-0b76-49ef-a641-a3757de2d27d",
        "outputId": "279ef68e-82b7-422f-ea46-775c4879fc15"
      },
      "outputs": [
        {
          "output_type": "stream",
          "name": "stdout",
          "text": [
            "[[0 0]\n",
            " [0 0]]\n",
            "[[4 0]\n",
            " [0 1]]\n",
            "[[4 3]\n",
            " [2 1]]\n"
          ]
        }
      ],
      "source": [
        "numx = np.array([[4,3],[2,1]])\n",
        "numy = np.zeros_like(numx)\n",
        "print(numy)\n",
        "z=np.eye(2)*numx\n",
        "print(z.astype(int))\n",
        "print((np.eye(2)@numx).astype(int))"
      ]
    },
    {
      "cell_type": "code",
      "execution_count": null,
      "id": "15ec8d70-c3ae-4440-bb77-dbe49d0d41b3",
      "metadata": {
        "colab": {
          "base_uri": "https://localhost:8080/"
        },
        "id": "15ec8d70-c3ae-4440-bb77-dbe49d0d41b3",
        "outputId": "a6f4fda5-68a6-4a1a-8550-a51e511dbd99"
      },
      "outputs": [
        {
          "output_type": "stream",
          "name": "stdout",
          "text": [
            "[0 8]\n",
            "[[1 1 0]\n",
            " [9 7 8]\n",
            " [6 8 4]] \n",
            "\n"
          ]
        },
        {
          "output_type": "execute_result",
          "data": {
            "text/plain": [
              "array([[[5, 2, 1],\n",
              "        [2, 1, 8]],\n",
              "\n",
              "       [[1, 2, 3],\n",
              "        [4, 5, 6]]])"
            ]
          },
          "metadata": {},
          "execution_count": 49
        }
      ],
      "source": [
        "ad1=np.array([[1,1,0],[9,7,8],[6,8,4]])\n",
        "ad2=np.array([[[5,2,1],[2,1,8]],[[1,2,3],[4,5,6]]])\n",
        "print(ad1[:2,-1])#[row:column]\n",
        "print(ad1,'\\n')\n",
        "ad2"
      ]
    },
    {
      "cell_type": "code",
      "execution_count": null,
      "id": "eb3131fb-b269-48b0-813e-a152faed254c",
      "metadata": {
        "colab": {
          "base_uri": "https://localhost:8080/"
        },
        "id": "eb3131fb-b269-48b0-813e-a152faed254c",
        "outputId": "efd7c061-a8b9-4465-83e5-53bf6831f619"
      },
      "outputs": [
        {
          "output_type": "stream",
          "name": "stdout",
          "text": [
            "[[1 1]\n",
            " [9 7]\n",
            " [6 8]]\n"
          ]
        },
        {
          "output_type": "execute_result",
          "data": {
            "text/plain": [
              "array([6, 8, 4])"
            ]
          },
          "metadata": {},
          "execution_count": 50
        }
      ],
      "source": [
        "print(ad1[:,:2])\n",
        "ad1[-1,:]"
      ]
    },
    {
      "cell_type": "code",
      "execution_count": null,
      "id": "d2500782-921c-4268-94be-9577eaf96f70",
      "metadata": {
        "colab": {
          "base_uri": "https://localhost:8080/"
        },
        "id": "d2500782-921c-4268-94be-9577eaf96f70",
        "outputId": "8efbfeb8-edea-461d-f665-5c011e536397"
      },
      "outputs": [
        {
          "output_type": "stream",
          "name": "stdout",
          "text": [
            "40.86666666666667 331.44888888888886 38.0 2\n",
            "40.86666666666667 331.44888888888886 38.0\n",
            "mean,median,variance of row 1 39.333333333333336 , 349.5555555555555 , 32.0\n",
            "mean,median,variance of row 2 48.333333333333336 , 843.5555555555555 , 33.0\n",
            "mean,median,variance of row 3 27.666666666666668 , 76.22222222222221 , 22.0\n",
            "mean,median,variance of row 4 44.333333333333336 , 96.22222222222223 , 45.0\n",
            "mean,median,variance of row 5 44.666666666666664 , 32.88888888888889 , 44.0\n"
          ]
        },
        {
          "output_type": "execute_result",
          "data": {
            "text/plain": [
              "array([[32, 21, 65],\n",
              "       [89, 33, 23],\n",
              "       [22, 40, 21],\n",
              "       [32, 56, 45],\n",
              "       [44, 38, 52]])"
            ]
          },
          "metadata": {},
          "execution_count": 51
        }
      ],
      "source": [
        "x1=[32,21,65,89,33,23,22,40,21,32,56,45,44,38,52]\n",
        "x2=np.array(x1).reshape(5,3)\n",
        "print(np.mean(x2),np.var(x2),np.median(x2),x2.ndim)\n",
        "print(np.mean(x1),np.var(x1),np.median(x1))\n",
        "for i in range(5):\n",
        "    print('mean,median,variance of row',i+1,np.mean(x2[i]),',',np.var(x2[i]),',',np.median(x2[i]))\n",
        "x2"
      ]
    },
    {
      "cell_type": "code",
      "execution_count": null,
      "id": "c5c37aa3-ebfe-4356-9441-97f73db78da7",
      "metadata": {
        "colab": {
          "base_uri": "https://localhost:8080/"
        },
        "id": "c5c37aa3-ebfe-4356-9441-97f73db78da7",
        "outputId": "1b64b3a8-7666-487d-aad1-e472ce9387ff"
      },
      "outputs": [
        {
          "output_type": "stream",
          "name": "stdout",
          "text": [
            "[ 32  53 118]\n",
            "[ 89 122 145]\n",
            "[22 62 83]\n",
            "[ 32  88 133]\n",
            "[ 44  82 134]\n"
          ]
        }
      ],
      "source": [
        "#for culumatve sum of x2\n",
        "for i in range(5):\n",
        "    cumulativesum=np.cumsum(x2[i])\n",
        "    print(cumulativesum)"
      ]
    },
    {
      "cell_type": "code",
      "execution_count": null,
      "id": "34191bd3-c2d9-4531-9c64-2c3b6a578bf1",
      "metadata": {
        "colab": {
          "base_uri": "https://localhost:8080/"
        },
        "id": "34191bd3-c2d9-4531-9c64-2c3b6a578bf1",
        "outputId": "5e1c6883-2d68-453b-c398-c9ca2c913c43"
      },
      "outputs": [
        {
          "output_type": "execute_result",
          "data": {
            "text/plain": [
              "array([[21, 32, 65],\n",
              "       [33, 89, 23],\n",
              "       [40, 22, 21],\n",
              "       [56, 32, 45],\n",
              "       [38, 44, 52]])"
            ]
          },
          "metadata": {},
          "execution_count": 53
        }
      ],
      "source": [
        "x2[:,[0,1]]=x2[:,[1,0]]\n",
        "x2"
      ]
    },
    {
      "cell_type": "code",
      "execution_count": null,
      "id": "8029eb59-973c-4934-9ed0-1ff77b6a1455",
      "metadata": {
        "colab": {
          "base_uri": "https://localhost:8080/"
        },
        "id": "8029eb59-973c-4934-9ed0-1ff77b6a1455",
        "outputId": "9aa44b76-16fc-4cf0-ee60-3c5d548c4259"
      },
      "outputs": [
        {
          "output_type": "execute_result",
          "data": {
            "text/plain": [
              "array([[21, 22, 21],\n",
              "       [33, 32, 23],\n",
              "       [38, 32, 45],\n",
              "       [40, 44, 52],\n",
              "       [56, 89, 65]])"
            ]
          },
          "metadata": {},
          "execution_count": 54
        }
      ],
      "source": [
        "x2[:,0]=np.sort(x2[:,0])\n",
        "x2[:,1]=np.sort(x2[:,1])\n",
        "x2[:,2]=np.sort(x2[:,2])\n",
        "x2"
      ]
    },
    {
      "cell_type": "code",
      "execution_count": null,
      "id": "70d0a41a-85b4-4d52-86a5-e0ea5102d92a",
      "metadata": {
        "colab": {
          "base_uri": "https://localhost:8080/"
        },
        "id": "70d0a41a-85b4-4d52-86a5-e0ea5102d92a",
        "outputId": "ea61fad8-508b-435d-9782-e7ed28989a16"
      },
      "outputs": [
        {
          "output_type": "execute_result",
          "data": {
            "text/plain": [
              "array([[21, 22, 21],\n",
              "       [33, 32, 23],\n",
              "       [38, 32,  0],\n",
              "       [40,  0,  0],\n",
              "       [ 0,  0,  0]])"
            ]
          },
          "metadata": {},
          "execution_count": 55
        }
      ],
      "source": [
        "r=np.where(x2>40,0,x2)\n",
        "r"
      ]
    },
    {
      "cell_type": "code",
      "execution_count": null,
      "id": "78736021-e8ff-442d-8639-a4deddb83287",
      "metadata": {
        "colab": {
          "base_uri": "https://localhost:8080/"
        },
        "id": "78736021-e8ff-442d-8639-a4deddb83287",
        "outputId": "5191324f-03be-4cf6-8dce-442c68bbb71b"
      },
      "outputs": [
        {
          "output_type": "execute_result",
          "data": {
            "text/plain": [
              "array([[21, 22, 21],\n",
              "       [33, 32, 23],\n",
              "       [38, 32,  0],\n",
              "       [40,  0,  0],\n",
              "       [ 0,  0,  0]])"
            ]
          },
          "metadata": {},
          "execution_count": 56
        }
      ],
      "source": [
        "x2[x2>40]=0\n",
        "x2"
      ]
    },
    {
      "cell_type": "code",
      "execution_count": null,
      "id": "eb66007c-2a60-48c3-b8dc-bb3681ed35d5",
      "metadata": {
        "colab": {
          "base_uri": "https://localhost:8080/"
        },
        "id": "eb66007c-2a60-48c3-b8dc-bb3681ed35d5",
        "outputId": "aa369564-41f6-4f66-bf02-78677cf69b4f"
      },
      "outputs": [
        {
          "output_type": "execute_result",
          "data": {
            "text/plain": [
              "array([0.    , 0.0204, 0.0408, 0.0612, 0.0816, 0.102 , 0.1224, 0.1429,\n",
              "       0.1633, 0.1837, 0.2041, 0.2245, 0.2449, 0.2653, 0.2857, 0.3061,\n",
              "       0.3265, 0.3469, 0.3673, 0.3878, 0.4082, 0.4286, 0.449 , 0.4694,\n",
              "       0.4898, 0.5102, 0.5306, 0.551 , 0.5714, 0.5918, 0.6122, 0.6327,\n",
              "       0.6531, 0.6735, 0.6939, 0.7143, 0.7347, 0.7551, 0.7755, 0.7959,\n",
              "       0.8163, 0.8367, 0.8571, 0.8776, 0.898 , 0.9184, 0.9388, 0.9592,\n",
              "       0.9796, 1.    ])"
            ]
          },
          "metadata": {},
          "execution_count": 57
        }
      ],
      "source": [
        "ad3=np.linspace(0,1,50)\n",
        "np.round(ad3,4)"
      ]
    },
    {
      "cell_type": "code",
      "execution_count": null,
      "id": "7cf18f8c-aaf8-41c8-a74e-addb9191806e",
      "metadata": {
        "colab": {
          "base_uri": "https://localhost:8080/"
        },
        "id": "7cf18f8c-aaf8-41c8-a74e-addb9191806e",
        "outputId": "6608952d-bcc2-43ba-f9cd-3b56393a18fd"
      },
      "outputs": [
        {
          "output_type": "stream",
          "name": "stdout",
          "text": [
            "[2 6]\n"
          ]
        }
      ],
      "source": [
        "ad4=np.array([[4,3,2],[1,9,6]])\n",
        "print(ad4[:2,-1])\n"
      ]
    },
    {
      "cell_type": "code",
      "execution_count": null,
      "id": "f4df8ac0-4221-4e6b-8c39-28f4a8e7ef1b",
      "metadata": {
        "colab": {
          "base_uri": "https://localhost:8080/"
        },
        "id": "f4df8ac0-4221-4e6b-8c39-28f4a8e7ef1b",
        "outputId": "3ced2f9f-729d-4063-fa14-0cbba1a2e57c"
      },
      "outputs": [
        {
          "output_type": "stream",
          "name": "stdout",
          "text": [
            "[[ 0  1  2  3]\n",
            " [ 4  5  6  7]\n",
            " [ 8  9 10 11]\n",
            " [12 13 14 15]\n",
            " [16 17 18 19]\n",
            " [20 21 22 23]]\n",
            "[ 7 13 20 11]\n",
            "\n",
            " [[ 0  1  2  3]\n",
            " [ 8  9 10 11]\n",
            " [16 17 18 19]]\n",
            "\n",
            " [[ 4  5  6  7]\n",
            " [12 13 14 15]\n",
            " [20 21 22 23]]\n"
          ]
        }
      ],
      "source": [
        "ad5=np.arange(24).reshape(6,4)\n",
        "print(ad5)\n",
        "print(ad5[[1,3,5,2],[3,1,0,3]])\n",
        "print('\\n',ad5[[0,2,4]])\n",
        "print('\\n',ad5[[-5,-3,-1]])"
      ]
    },
    {
      "cell_type": "code",
      "execution_count": null,
      "id": "88087d59-d0ca-41bd-8daa-44d32521f60e",
      "metadata": {
        "colab": {
          "base_uri": "https://localhost:8080/"
        },
        "id": "88087d59-d0ca-41bd-8daa-44d32521f60e",
        "outputId": "00b9563c-665d-432d-e3f0-784c629fdd7d"
      },
      "outputs": [
        {
          "output_type": "stream",
          "name": "stdout",
          "text": [
            "[[31. 32. 33. 34.]\n",
            " [35. 36. 37. 38.]\n",
            " [39. 40. 41. 42.]\n",
            " [43. 44. 45. 46.]]\n",
            "\n",
            " [[ 0. 32. 33. 34.]\n",
            " [35.  0. 37. 38.]\n",
            " [39. 40.  0. 42.]\n",
            " [43. 44. 45.  0.]]\n",
            "\n",
            " [[1. 1. 1. 1.]\n",
            " [1. 1. 1. 1.]\n",
            " [1. 1. 1. 1.]\n",
            " [1. 1. 1. 1.]]\n"
          ]
        }
      ],
      "source": [
        "ad6=np.arange(31,47)\n",
        "ad7=ad6.astype(float).reshape(4,4)\n",
        "print(ad7)\n",
        "for i in range(4):\n",
        "    ad7[i][i]=0\n",
        "print('\\n',ad7)\n",
        "print('\\n',np.ones_like(ad7))"
      ]
    },
    {
      "cell_type": "code",
      "execution_count": null,
      "id": "3ecceb8f-1662-4be3-b4e9-8d40d7b33c86",
      "metadata": {
        "colab": {
          "base_uri": "https://localhost:8080/"
        },
        "id": "3ecceb8f-1662-4be3-b4e9-8d40d7b33c86",
        "outputId": "85e41e6b-a631-45ca-ddd8-09b0770661ef"
      },
      "outputs": [
        {
          "output_type": "stream",
          "name": "stdout",
          "text": [
            "[7. 8.]\n",
            "float64\n",
            "[[[ -25.   50.]\n",
            "  [  75.  100.]]\n",
            "\n",
            " [[-125.  150.]\n",
            "  [ 175.  200.]]]\n"
          ]
        },
        {
          "output_type": "execute_result",
          "data": {
            "text/plain": [
              "array([[[-1.,  2.],\n",
              "        [ 3.,  4.]],\n",
              "\n",
              "       [[-5.,  6.],\n",
              "        [ 7.,  8.]]])"
            ]
          },
          "metadata": {},
          "execution_count": 61
        }
      ],
      "source": [
        "mat=np.array([[[-1,2],[3,4]],[[-5,6],[7,8]]]).astype(float)\n",
        "print(mat[mat>6])\n",
        "print(mat.dtype)\n",
        "print(mat*25)\n",
        "mat"
      ]
    },
    {
      "cell_type": "code",
      "execution_count": null,
      "id": "70e906e9-c41e-4bc9-a6b2-a6c5da6cd023",
      "metadata": {
        "colab": {
          "base_uri": "https://localhost:8080/"
        },
        "id": "70e906e9-c41e-4bc9-a6b2-a6c5da6cd023",
        "outputId": "87f6f670-b0d4-4592-ea12-81da40621305"
      },
      "outputs": [
        {
          "output_type": "stream",
          "name": "stdout",
          "text": [
            "[[0. 0. 0.]\n",
            " [0. 0. 0.]]\n"
          ]
        },
        {
          "output_type": "execute_result",
          "data": {
            "text/plain": [
              "array([[1., 2., 3.],\n",
              "       [4., 5., 6.]])"
            ]
          },
          "metadata": {},
          "execution_count": 62
        }
      ],
      "source": [
        "ad9=np.zeros((2,3))\n",
        "print(ad9)\n",
        "ad9[0:]=[1,2,3]\n",
        "ad9[1:]=[4,5,6]\n",
        "ad9"
      ]
    },
    {
      "cell_type": "code",
      "execution_count": null,
      "id": "2c42550d-30cf-441c-b65c-e8ca01dfe5c3",
      "metadata": {
        "colab": {
          "base_uri": "https://localhost:8080/"
        },
        "id": "2c42550d-30cf-441c-b65c-e8ca01dfe5c3",
        "outputId": "cb7a456b-83dc-48ee-bb36-6c60ff532666"
      },
      "outputs": [
        {
          "output_type": "stream",
          "name": "stdout",
          "text": [
            "[[0.10673086 0.37031881]\n",
            " [0.49717466 0.88574331]\n",
            " [0.8002147  0.01529956]] \n",
            "\n",
            " [[ 1  7 13]\n",
            " [ 3  9 15]\n",
            " [ 5 11 17]]\n"
          ]
        }
      ],
      "source": [
        "ad10=np.arange(1,18,2).reshape(3,3).T\n",
        "ad11=np.random.rand(3,2)\n",
        "print(ad11,'\\n'*2,ad10)"
      ]
    },
    {
      "cell_type": "code",
      "execution_count": null,
      "id": "55564f68-dcb9-48a2-a7ba-5330bec6ddbd",
      "metadata": {
        "id": "55564f68-dcb9-48a2-a7ba-5330bec6ddbd"
      },
      "outputs": [],
      "source": []
    }
  ],
  "metadata": {
    "kernelspec": {
      "display_name": "Python 3 (ipykernel)",
      "language": "python",
      "name": "python3"
    },
    "language_info": {
      "codemirror_mode": {
        "name": "ipython",
        "version": 3
      },
      "file_extension": ".py",
      "mimetype": "text/x-python",
      "name": "python",
      "nbconvert_exporter": "python",
      "pygments_lexer": "ipython3",
      "version": "3.13.1"
    },
    "toc": {
      "base_numbering": 0
    },
    "colab": {
      "provenance": [],
      "collapsed_sections": [
        "f45825a8-fbd6-449c-98d6-22e8147f20a0",
        "f3070495-bc65-4ef9-ab5c-ad572615c0c2",
        "8276af94-d50d-4ef8-a204-121b309aae88",
        "4ffa4f51-5901-410c-830c-adab47e4df2a",
        "7f837f7e-eb94-44b5-be7d-02344625ce96",
        "c8c3d491-34f7-4cd3-8edf-4991205ad407",
        "48a21a28-89a2-4731-94d3-f46341e05a61"
      ],
      "include_colab_link": true
    }
  },
  "nbformat": 4,
  "nbformat_minor": 5
}